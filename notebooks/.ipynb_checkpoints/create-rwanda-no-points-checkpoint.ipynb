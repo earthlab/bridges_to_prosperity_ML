{
 "cells": [
  {
   "cell_type": "code",
   "execution_count": 63,
   "metadata": {},
   "outputs": [],
   "source": [
    "import geopandas as gpd\n",
    "from shapely.ops import nearest_points\n",
    "from shapely.geometry import Point\n",
    "import random\n",
    "from fiona.crs import from_epsg\n",
    "import os, sys\n"
   ]
  },
  {
   "cell_type": "code",
   "execution_count": 21,
   "metadata": {},
   "outputs": [],
   "source": [
    "poly_fi = r'../../Fwd__B2P_and_Earth_Lab_areas_of_interest/rwanda_aoi_big/layers/POLYGON.shp'\n",
    "yes_pts_fi = r'../../rwanda/B2P_Rwanda_bridge_sites_2019_05_08.shp'\n",
    "\n",
    "poly_df = gpd.read_file(poly_fi)\n",
    "yes_pts_df = gpd.read_file(yes_pts_fi)"
   ]
  },
  {
   "cell_type": "code",
   "execution_count": 71,
   "metadata": {},
   "outputs": [],
   "source": [
    "def random_points_within(poly, num_points, check_pts):\n",
    "    \"\"\"Generate <num_points> random points within a geometry.\n",
    "    \n",
    "    Parameters\n",
    "    ---------------------------------\n",
    "    poly: a Shapely Polygon geometry\n",
    "        This is the geometry within which a random point will be generated.\n",
    "    \n",
    "    num_points: number of points to generate within the polygon\n",
    "        See above.\n",
    "    \n",
    "    Usage Notes\n",
    "    ---------------------------------\n",
    "    This is a 'brute force' method in that a random point is generated within the *extent* of the geometry \n",
    "    until that point is within the actual geometry. For highly irregular polygons this could take a while.\n",
    "    \n",
    "    \"\"\"\n",
    "    \n",
    "        \n",
    "    min_x, min_y, max_x, max_y = poly.bounds\n",
    "\n",
    "    points = []\n",
    "\n",
    "    while len(points) < num_points:\n",
    "        random_point = Point([random.uniform(min_x, max_x), random.uniform(min_y, max_y)])\n",
    "        if (random_point.within(poly)):\n",
    "            \n",
    "            # check for distance\n",
    "            if nearest_dist(random_point, check_pts, check_dist=1500):\n",
    "                points.append(random_point)\n",
    "                \n",
    "                \n",
    "\n",
    "    points_df = gpd.GeoDataFrame({'geometry': points}, crs=from_epsg(3857))\n",
    "    \n",
    "    return points_df.to_crs(epsg=4326)\n",
    "\n",
    "def nearest_dist(rp, cp, check_dist=1500):\n",
    "    \"\"\"check distance of rp is less than check_dist of any points in cp.\n",
    "    \n",
    "    Parameters\n",
    "    ---------------------------------\n",
    "    rp: a Shapely Point geometry\n",
    "        This is the random point to check against cp.\n",
    "    \n",
    "    cp: a GeoPandas GeoDataFrame containing Shapely Point geometries\n",
    "        Contains point geometries to compare to rp.\n",
    "        \n",
    "    check_dist: float\n",
    "        distance specified for point to be closest to any point in cp\n",
    "    \n",
    "    Usage Notes\n",
    "    ---------------------------------\n",
    "    This is a 'brute force' method in that a random point is generated within the *extent* of the geometry \n",
    "    until that point is within the actual geometry. For highly irregular polygons this could take a while.\n",
    "    \n",
    "    \"\"\"\n",
    "    \n",
    "    min_distance = min_dist(rp, cp)\n",
    "    \n",
    "    return min_distance > check_dist\n",
    "    \n",
    "    \n",
    "def min_dist(point, gpd2):\n",
    "    #gpd2['Dist'] = gpd2.apply(lambda row:  point.distance(row['geometry']))\n",
    "    gpd2['Dist'] = list(map(point.distance, gpd2['geometry']))\n",
    "    geoseries = gpd2.iloc[gpd2['Dist'].argmin()]\n",
    "    \n",
    "    return gpd2['Dist'].min()"
   ]
  },
  {
   "cell_type": "code",
   "execution_count": 72,
   "metadata": {},
   "outputs": [
    {
     "name": "stderr",
     "output_type": "stream",
     "text": [
      "C:\\software\\anaconda3\\envs\\eapy_gbdx\\lib\\site-packages\\ipykernel_launcher.py:67: FutureWarning: \n",
      "The current behaviour of 'Series.argmin' is deprecated, use 'idxmin'\n",
      "instead.\n",
      "The behavior of 'argmin' will be corrected to return the positional\n",
      "minimum in the future. For now, use 'series.values.argmin' or\n",
      "'np.argmin(np.array(values))' to get the position of the minimum\n",
      "row.\n",
      "C:\\software\\anaconda3\\envs\\eapy_gbdx\\lib\\site-packages\\ipykernel_launcher.py:69: FutureWarning: \n",
      "The current behaviour of 'Series.argmin' is deprecated, use 'idxmin'\n",
      "instead.\n",
      "The behavior of 'argmin' will be corrected to return the positional\n",
      "minimum in the future. For now, use 'series.values.argmin' or\n",
      "'np.argmin(np.array(values))' to get the position of the minimum\n",
      "row.\n"
     ]
    }
   ],
   "source": [
    "\n",
    "pts = random_points_within(poly_df.to_crs(epsg=3857)['geometry'][0], 1000, yes_pts_df.to_crs(epsg=3857))"
   ]
  },
  {
   "cell_type": "code",
   "execution_count": 73,
   "metadata": {},
   "outputs": [
    {
     "data": {
      "text/plain": [
       "(1000, 1)"
      ]
     },
     "execution_count": 73,
     "metadata": {},
     "output_type": "execute_result"
    }
   ],
   "source": [
    "pts.shape"
   ]
  },
  {
   "cell_type": "code",
   "execution_count": 74,
   "metadata": {},
   "outputs": [],
   "source": [
    "pts.to_file(r'../../rwanda/rwanda_no_pts_1000.shp')"
   ]
  },
  {
   "cell_type": "code",
   "execution_count": null,
   "metadata": {},
   "outputs": [],
   "source": []
  }
 ],
 "metadata": {
  "kernelspec": {
   "display_name": "Python3 (eapy_gbdx)",
   "language": "python",
   "name": "eapy_gbdx"
  },
  "language_info": {
   "codemirror_mode": {
    "name": "ipython",
    "version": 3
   },
   "file_extension": ".py",
   "mimetype": "text/x-python",
   "name": "python",
   "nbconvert_exporter": "python",
   "pygments_lexer": "ipython3",
   "version": "3.6.7"
  }
 },
 "nbformat": 4,
 "nbformat_minor": 2
}
