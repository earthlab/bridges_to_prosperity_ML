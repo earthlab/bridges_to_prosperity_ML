{
 "cells": [
  {
   "cell_type": "code",
   "execution_count": 1,
   "metadata": {},
   "outputs": [],
   "source": [
    "import geopandas as gpd\n",
    "import os\n",
    "from pprint import pprint\n",
    "import numpy as np\n",
    "from matplotlib import pyplot as plt\n",
    "import rasterio as rio\n",
    "\n",
    "PLANET_API_KEY = 'f2429704c3ab4d95989e7b889ca4cb5d'\n",
    "\n",
    "# Import helper modules\n",
    "import json\n",
    "import mercantile\n",
    "import requests\n",
    "import urllib\n",
    "import pandas as pd\n",
    "\n",
    "from pl_b2p import *"
   ]
  },
  {
   "cell_type": "code",
   "execution_count": 2,
   "metadata": {},
   "outputs": [],
   "source": [
    "# Setup Planet Mosaics API base URL\n",
    "API_URL = \"https://api.planet.com/data/v1\"\n",
    "API_URL = \"https://api.planet.com/basemaps/v1/mosaics/wmts\" # ?api_key=f2429704c3ab4d95989e7b889ca4cb5d\n",
    "# Setup the session\n",
    "session = requests.Session()\n",
    "# Authenticate\n",
    "session.auth = (PLANET_API_KEY, \"\")\n",
    "# Make a GET request to the Planet Data API\n",
    "resp = session.get(API_URL)\n",
    "if not resp.ok:\n",
    "    print(\"Something is wrong:\", resp.content)"
   ]
  },
  {
   "cell_type": "code",
   "execution_count": 3,
   "metadata": {},
   "outputs": [],
   "source": [
    "# create dictionary of mosaic names and id's\n",
    "DATA_URL = f\"https://api.planet.com/basemaps/v1/mosaics?api_key={PLANET_API_KEY}\" # gets all mosaic items (50??)\n",
    "\n",
    "params = {'_page_size':200}\n",
    "resp = session.get(DATA_URL, params=params)\n",
    "# session.options(DATA_URL).content"
   ]
  },
  {
   "cell_type": "code",
   "execution_count": 4,
   "metadata": {},
   "outputs": [],
   "source": [
    "# define a function to create a dictionary from mosaic name and id to pass onto the tile URL\n",
    "def mosaic_id_dict_from_resp(resp):\n",
    "    mosaic_id_dict = {}\n",
    "    for m in resp.json()['mosaics']:\n",
    "        mosaic_id_dict[m['name']] = m['id']\n",
    "        \n",
    "    return mosaic_id_dict\n",
    "\n",
    "mid = mosaic_id_dict_from_resp(resp)"
   ]
  },
  {
   "cell_type": "code",
   "execution_count": 5,
   "metadata": {},
   "outputs": [
    {
     "data": {
      "text/plain": [
       "{'global_monthly_2016_01_mosaic': '48fff803-4104-49bc-b913-7467b7a5ffb5',\n",
       " 'global_monthly_2016_02_mosaic': 'a97687cf-65db-4f34-ab2c-2ef7596a24ce',\n",
       " 'global_monthly_2016_03_mosaic': 'cfd6a60f-ec1e-491d-a885-e06d43990bd5',\n",
       " 'global_monthly_2016_04_mosaic': 'e6eaab79-7209-46cd-b187-1046e302e8bb',\n",
       " 'global_monthly_2016_05_mosaic': 'ab910c9a-242f-47e2-8c3c-debbe256a724',\n",
       " 'global_monthly_2016_06_mosaic': '4c20a124-b320-4b64-a00c-5d4bc0f8e371',\n",
       " 'global_monthly_2016_07_mosaic': '727c90ac-0e02-47ae-92bd-2e3b41c6395c',\n",
       " 'global_monthly_2016_08_mosaic': 'd887144d-e7c5-4980-8fd4-28287ff875bb',\n",
       " 'global_monthly_2016_09_mosaic': '17218a40-7753-4a1d-9bcc-f0ce632c3c2b',\n",
       " 'global_monthly_2016_10_mosaic': '1ade603f-40d3-4eeb-b742-10e6b3e8aa49',\n",
       " 'global_monthly_2016_11_mosaic': '1ef11325-beb4-4531-b422-573e121f4611',\n",
       " 'global_monthly_2016_12_mosaic': 'f2952136-69bc-4c31-bc21-a2e3919042a1',\n",
       " 'global_monthly_2017_01_mutate_mosaic': '5b9d2f32-7329-419a-9822-5d4cdfefe198',\n",
       " 'global_monthly_2017_02_mosaic': '0c24ddd9-ddec-4ffa-9124-d12581f6c1ea',\n",
       " 'global_monthly_2017_03_mosaic': 'ecb880ff-5ed3-4715-8025-5c5f580ab0dd',\n",
       " 'global_monthly_2017_04_mosaic': 'fddb9ff1-c3ec-48d3-b25d-72da64b7e493',\n",
       " 'global_monthly_2017_05_mosaic': 'cfb53e32-1f83-409d-9607-78824445a678',\n",
       " 'global_monthly_2017_06_mosaic': 'ea71f1a3-862b-446e-8cd6-f05f938beb07',\n",
       " 'global_monthly_2017_07_mosaic': 'c2a2ef5a-1030-42d0-90de-eb68e8d4b15d',\n",
       " 'global_monthly_2017_08_mosaic': '6cb7952f-f365-475e-8e43-8f7798a0f4cd',\n",
       " 'global_monthly_2017_09_mosaic': '20f3b8f0-bcf2-4497-a4b3-6f1ac51bc63c',\n",
       " 'global_monthly_2017_10_mosaic': '15118769-14c3-410a-b4ab-aa247b02e4ad',\n",
       " 'global_monthly_2017_11_mosaic': 'af07deed-ed16-469e-9a41-a886c43df825',\n",
       " 'global_monthly_2017_12_mosaic': '889874a4-c9fb-49b4-b696-fa1cc92f1808',\n",
       " 'global_monthly_2018_01_mosaic': '48bd68d0-011d-4d00-92f5-ffce9432cda8',\n",
       " 'global_monthly_2018_02_mosaic': 'b03cedd7-a2c8-4c12-a273-a70557592d89',\n",
       " 'global_monthly_2018_03_mosaic': '0d8ee4dc-68de-4dd0-94be-34261e5b46c8',\n",
       " 'global_monthly_2018_04_mosaic': 'f5d535a8-3709-4198-a867-e6106c35e9a7',\n",
       " 'global_monthly_2018_05_mosaic': 'a2c10c23-54c1-45e1-8a0a-50b83cfc3d77',\n",
       " 'global_monthly_2018_06_mosaic': '5ca2b36f-3b56-462f-8940-957aad9bc56e',\n",
       " 'global_monthly_2018_07_mosaic': 'b4e69c91-e648-4877-95ad-b11a24861c06',\n",
       " 'global_monthly_2018_08_mosaic': '513bc1c8-25b3-4dee-b80c-cdc8e4b2099a',\n",
       " 'global_monthly_2018_09_mosaic': 'b5faab43-36c1-44e3-812d-f51948c9ffe2',\n",
       " 'global_monthly_2018_10_mosaic': '28be1b87-3bda-4644-b087-e39c141e2634',\n",
       " 'global_monthly_2018_11_mosaic': 'f876dcf1-e4ad-4624-85b0-e5a222caadf0',\n",
       " 'global_monthly_2018_12_mosaic': 'd9264bbc-a677-4828-8493-467558cb348d',\n",
       " 'global_monthly_2019_01_mosaic': 'b9a1ee8a-190c-45cd-bb1a-fe136db118f2',\n",
       " 'global_monthly_2019_02_mosaic': '14154e5d-0ff0-48af-8ee7-5303f80e98a4',\n",
       " 'global_monthly_2019_03_mosaic': 'af953970-7189-473a-8e26-24397577eaa2',\n",
       " 'global_monthly_2019_04_mosaic': '2cb5dc96-7de0-4cbd-a92c-751269440b59',\n",
       " 'global_monthly_2019_05_mosaic': '3ad57d23-4da1-4d4e-956d-f66015ef4d10',\n",
       " 'global_monthly_2019_06_mosaic': 'e6fe5d09-891f-44c6-a74c-c2de1f43383c',\n",
       " 'global_monthly_2019_07_mosaic': '713db44d-fe75-4ba5-aa6d-defbd8c890cf',\n",
       " 'global_monthly_2019_08_mosaic': '2c4b3b80-fd60-406a-b0a8-76467980789d',\n",
       " 'global_monthly_2019_09_mosaic': 'fa63c2ec-0ecf-4e0a-997f-665f03cdf6e5',\n",
       " 'global_monthly_2019_10_mosaic': '509e818d-75f3-46b4-bb88-4d46212e67fc',\n",
       " 'global_monthly_2019_11_mosaic': '55fcb749-30df-4c7c-94cb-5e9832605346',\n",
       " 'global_monthly_2019_12_mosaic': '47e57cec-91ff-46d2-bcf2-9c42d74382c4',\n",
       " 'global_monthly_2020_01_mosaic': 'fed42f53-52c0-4efc-b2b1-b6a970271645',\n",
       " 'global_monthly_2020_02_mosaic': '0566310e-ae89-4685-a548-a34a2b09d979',\n",
       " 'global_monthly_2020_03_mosaic': 'c524dd83-613b-421c-8d81-2627aa2a1aed',\n",
       " 'global_monthly_2020_04_mosaic': '8b9dd650-dc7e-4082-a37f-867250a1cb6e',\n",
       " 'global_quarterly_2016q1_mosaic': '2a0735d9-9e41-4e5b-a583-6c48d57dc899',\n",
       " 'global_quarterly_2016q2_mosaic': 'f24ed0b7-4202-4ffc-ad11-5365bc8923d6',\n",
       " 'global_quarterly_2016q3_mosaic': 'e95e2ad5-9689-4ef3-94b7-fbe1310c8785',\n",
       " 'global_quarterly_2016q4_mosaic': '55696e0b-5c9b-4b76-9307-7faca1f08b64',\n",
       " 'global_quarterly_2017q1_mosaic': 'b1d2a909-712b-4e19-bbe1-332d244d7474',\n",
       " 'global_quarterly_2017q2_mosaic': '0ad0dd32-8b1c-4c7c-8649-f58c7cb3cf6e',\n",
       " 'global_quarterly_2017q3_mosaic': 'a2b2c629-077d-469e-a5e5-024f71633b16',\n",
       " 'global_quarterly_2017q4_mosaic': '8aa9d0df-5fe2-419f-adc5-f8931e8c99c1',\n",
       " 'global_quarterly_2018q1_mosaic': '858fee97-b5c9-4e01-9fe6-59d48ba178a5',\n",
       " 'global_quarterly_2018q2_mosaic': 'f8b505f0-3b89-4d17-b04f-7b388bb4a059',\n",
       " 'global_quarterly_2018q3_mosaic': 'b139f491-e6ef-4106-92e8-8a8810066b85',\n",
       " 'global_quarterly_2018q4_mosaic': '22bd207f-2133-4cee-a440-5b7bc42f9c5e',\n",
       " 'global_quarterly_2019q1_mosaic': '5992bb57-6619-4f0a-a613-0982d20b4817',\n",
       " 'global_quarterly_2019q2_mosaic': '4ce5863a-fb3f-4cad-a899-b8c053af1858',\n",
       " 'global_quarterly_2019q3_mosaic': '1bdf5871-98f3-4e1a-aec6-88410b50a8e6',\n",
       " 'global_quarterly_2019q4_mosaic': '02e60ff0-2048-4fea-8d94-9da138cd6181',\n",
       " 'global_quarterly_2020q1_mosaic': 'b4848ebc-2d46-4870-a244-3346a7b0b20a'}"
      ]
     },
     "execution_count": 5,
     "metadata": {},
     "output_type": "execute_result"
    }
   ],
   "source": [
    "mid"
   ]
  },
  {
   "cell_type": "code",
   "execution_count": 6,
   "metadata": {},
   "outputs": [
    {
     "name": "stdout",
     "output_type": "stream",
     "text": [
      "{'_links': {'_self': 'https://api.planet.com/basemaps/v1/mosaics/858fee97-b5c9-4e01-9fe6-59d48ba178a5?api_key=f2429704c3ab4d95989e7b889ca4cb5d',\n",
      "            'tiles': 'https://tiles.planet.com/basemaps/v1/planet-tiles/global_quarterly_2018q1_mosaic/gmap/{z}/{x}/{y}.png?api_key=f2429704c3ab4d95989e7b889ca4cb5d'},\n",
      " 'bbox': [-180, -85.051129, 180, 85.051129],\n",
      " 'coordinate_system': 'EPSG:3857',\n",
      " 'datatype': 'byte',\n",
      " 'first_acquired': '2018-01-01T00:00:00.000Z',\n",
      " 'grid': {'quad_pattern': 'L{glevel:d}-{tilex:04d}E-{tiley:04d}N',\n",
      "          'quad_size': 4096,\n",
      "          'resolution': 4.77731426716},\n",
      " 'id': '858fee97-b5c9-4e01-9fe6-59d48ba178a5',\n",
      " 'interval': '3 mons',\n",
      " 'item_types': [''],\n",
      " 'last_acquired': '2018-04-01T00:00:00.000Z',\n",
      " 'level': 15,\n",
      " 'name': 'global_quarterly_2018q1_mosaic',\n",
      " 'product_type': 'timelapse'}\n"
     ]
    }
   ],
   "source": [
    "mosaic_name = 'global_monthly_2017_04_mosaic'\n",
    "mosaic_name = 'global_quarterly_2017q1_mosaic'\n",
    "mosaic_name = 'global_quarterly_2019q1_mosaic'\n",
    "mosaic_name = 'global_quarterly_2018q1_mosaic'\n",
    "mosaic_id = mid[mosaic_name]\n",
    "M_URL = f\"https://api.planet.com/basemaps/v1/mosaics/{mosaic_id}?api_key={PLANET_API_KEY}\" \n",
    "resp = session.get(M_URL)\n",
    "\n",
    "resp_json = resp.json()\n",
    "pprint(resp.json())\n",
    "# pprint(resp.content)"
   ]
  },
  {
   "cell_type": "code",
   "execution_count": 7,
   "metadata": {},
   "outputs": [
    {
     "name": "stdout",
     "output_type": "stream",
     "text": [
      "['Rejected' 'Complete' 'Identified' 'Confirmed' 'Under Construction'\n",
      " 'Prospecting']\n"
     ]
    },
    {
     "data": {
      "text/plain": [
       "((57, 21), (1521, 20))"
      ]
     },
     "execution_count": 7,
     "metadata": {},
     "output_type": "execute_result"
    }
   ],
   "source": [
    "# load the shapefile\n",
    "rwanda_pts = gpd.read_file('../../rwanda/B2P_Rwanda_bridge_sites_2019_05_08.shp')\n",
    "rwanda_pts.head()\n",
    "print(rwanda_pts.Stage.unique())\n",
    "\n",
    "rwanda_pts_NR = rwanda_pts[~rwanda_pts.Stage.isin(['Rejected', 'Identified'])].reset_index()\n",
    "rwanda_pts_NR.shape, rwanda_pts.shape"
   ]
  },
  {
   "cell_type": "code",
   "execution_count": 8,
   "metadata": {},
   "outputs": [],
   "source": [
    "rwanda_pts = gpd.read_file('../../rwanda/rwanda_no_pts_1000_minus_lakes.shp')"
   ]
  },
  {
   "cell_type": "code",
   "execution_count": 9,
   "metadata": {},
   "outputs": [],
   "source": [
    "# with rio.open(im_path) as src:\n",
    "#     arr = src.read()\n",
    "#     print(src.profile)\n",
    "\n",
    "# plt.figure(figsize=(10,10))\n",
    "# plt.imshow(np.rollaxis(arr,0,3))\n",
    "\n",
    "# # get the pixel location for the point\n",
    "# ul_x = web_merc_tile_edges(x,y,z).geometry[0].x\n",
    "# ul_y = web_merc_tile_edges(x,y,z).geometry[0].y\n",
    "\n",
    "# zm_15 = 4.78 # 4.78 meters per pixel @ zoom level 15\n",
    "# sample_pt = rwanda_pts_NR.to_crs(epsg=3857).geometry[pt_index]\n",
    "# sample_x = sample_pt.x\n",
    "# sample_y = sample_pt.y\n",
    "\n",
    "# scatter_x = int((sample_x - ul_x) / zm_15)\n",
    "# scatter_y = int(abs(sample_y - ul_y) / zm_15)\n",
    "\n",
    "# plt.scatter(scatter_x, scatter_y)\n",
    "# plt.show()"
   ]
  },
  {
   "cell_type": "markdown",
   "metadata": {},
   "source": [
    "Get all of 'em"
   ]
  },
  {
   "cell_type": "code",
   "execution_count": 14,
   "metadata": {},
   "outputs": [],
   "source": [
    "rwanda_poly = gpd.read_file(r\"D:\\projects\\bridges_to_prosperity\\Fwd__B2P_and_Earth_Lab_areas_of_interest\\rwanda_aoi_big.geojson\")\n",
    "rwanda_poly = gpd.read_file(r\"D:\\projects\\bridges_to_prosperity\\Fwd__B2P_and_Earth_Lab_areas_of_interest\\morija.geojson\")\n",
    "rwanda_bounds = list(rwanda_poly.bounds.values[0])\n",
    "all_tiles_rwanda = list(mercantile.tiles(*rwanda_bounds, zooms=[15]))"
   ]
  },
  {
   "cell_type": "code",
   "execution_count": 11,
   "metadata": {},
   "outputs": [],
   "source": [
    "from math import degrees, atan, sinh\n",
    "import gdal\n",
    "\n",
    "def x_to_lon_edges(x, z):\n",
    "    tile_count = pow(2, z)\n",
    "    unit = 360 / tile_count\n",
    "    lon1 = -180 + x * unit\n",
    "    lon2 = lon1 + unit\n",
    "    return(lon1, lon2)\n",
    "\n",
    "def mercatorToLat(mercatorY):\n",
    "    return(degrees(atan(sinh(mercatorY))))\n",
    "\n",
    "\n",
    "def y_to_lat_edges(y, z):\n",
    "    tile_count = pow(2, z)\n",
    "    unit = 1 / tile_count\n",
    "    relative_y1 = y * unit\n",
    "    relative_y2 = relative_y1 + unit\n",
    "    lat1 = mercatorToLat(np.pi * (1 - 2 * relative_y1))\n",
    "    lat2 = mercatorToLat(np.pi * (1 - 2 * relative_y2))\n",
    "    return(lat1, lat2)\n",
    "\n",
    "def tile_edges(x, y, z):\n",
    "    lat1, lat2 = y_to_lat_edges(y, z)\n",
    "    lon1, lon2 = x_to_lon_edges(x, z)\n",
    "    return[lon1, lat1, lon2, lat2]\n",
    "\n",
    "def georeference_raster_tile(x, y, z, path):\n",
    "    bounds = tile_edges(x, y, z)\n",
    "    filename, extension = os.path.splitext(path)\n",
    "    gdal.Translate(filename + '.tif',\n",
    "                   path,\n",
    "                   outputSRS='EPSG:4326',\n",
    "                   outputBounds=bounds)"
   ]
  },
  {
   "cell_type": "code",
   "execution_count": 15,
   "metadata": {
    "scrolled": true
   },
   "outputs": [
    {
     "name": "stdout",
     "output_type": "stream",
     "text": [
      "on 1 of 18\n",
      "on 2 of 18\n",
      "on 3 of 18\n",
      "on 4 of 18\n",
      "on 5 of 18\n",
      "on 6 of 18\n",
      "on 7 of 18\n",
      "on 8 of 18\n",
      "on 9 of 18\n",
      "on 10 of 18\n",
      "on 11 of 18\n",
      "on 12 of 18\n",
      "on 13 of 18\n",
      "on 14 of 18\n",
      "on 15 of 18\n",
      "on 16 of 18\n",
      "on 17 of 18\n",
      "on 18 of 18\n"
     ]
    }
   ],
   "source": [
    "# all_tiles_rwanda[0]\n",
    "xp_ls, yp_ls, zp_ls, fp_ls = [],[],[],[]\n",
    "fi_dir = 'morija_all_pngs_planet_256_2018'\n",
    "os.makedirs(fi_dir, exist_ok=True)\n",
    "for i, t in enumerate(all_tiles_rwanda):\n",
    "    \n",
    "    try:\n",
    "        z = t.z\n",
    "        x = t.x\n",
    "        y = t.y\n",
    "        t_url = f'https://tiles.planet.com/basemaps/v1/planet-tiles/{mosaic_name}/gmap/{z}/{x}/{y}.png?api_key={PLANET_API_KEY}'\n",
    "\n",
    "        im_path = f'{fi_dir}/{x}_{y}_{z}.png'\n",
    "        \n",
    "        # skip if existing\n",
    "        if os.path.exists(im_path):\n",
    "            continue\n",
    "        \n",
    "        print(f'on {i+1} of {len(all_tiles_rwanda)}')\n",
    "            \n",
    "        urllib.request.urlretrieve(t_url, im_path)\n",
    "        \n",
    "        # georeference file\n",
    "        georeference_raster_tile(x, y, z, im_path)\n",
    "\n",
    "        xp_ls.append(x)\n",
    "        yp_ls.append(y)\n",
    "        zp_ls.append(z)\n",
    "        fp_ls.append(im_path)\n",
    "        \n",
    "    except Exception as e:\n",
    "        print(e)\n",
    "        xp_ls.append(np.nan)\n",
    "        yp_ls.append(np.nan)\n",
    "        zp_ls.append(np.nan)\n",
    "        fp_ls.append(np.nan)"
   ]
  },
  {
   "cell_type": "code",
   "execution_count": 13,
   "metadata": {},
   "outputs": [
    {
     "name": "stdout",
     "output_type": "stream",
     "text": [
      "finished\n"
     ]
    }
   ],
   "source": [
    "print('finished')"
   ]
  },
  {
   "cell_type": "code",
   "execution_count": null,
   "metadata": {},
   "outputs": [],
   "source": []
  },
  {
   "cell_type": "code",
   "execution_count": null,
   "metadata": {},
   "outputs": [],
   "source": []
  },
  {
   "cell_type": "code",
   "execution_count": null,
   "metadata": {},
   "outputs": [],
   "source": []
  },
  {
   "cell_type": "code",
   "execution_count": null,
   "metadata": {},
   "outputs": [],
   "source": []
  },
  {
   "cell_type": "code",
   "execution_count": null,
   "metadata": {},
   "outputs": [],
   "source": []
  },
  {
   "cell_type": "code",
   "execution_count": 10,
   "metadata": {},
   "outputs": [],
   "source": [
    "xp_ls, yp_ls, zp_ls, fp_ls = [],[],[],[]\n",
    "\n",
    "for row in rwanda_pts.iterrows():\n",
    "    # specify a point from the geodataframe of accepted stages\n",
    "    # get a tile coordiante for lon lat  (get from GDF)\n",
    "    #pt_index=50\n",
    "    #lon = rwanda_pts_NR.geometry[pt_index].x\n",
    "    #lat = rwanda_pts_NR.geometry[pt_index].y\n",
    "    \n",
    "    try:\n",
    "        lon = row[1]['geometry'].x\n",
    "        lat = row[1]['geometry'].y\n",
    "        zm = 15\n",
    "        tile_mapping = mercantile.tile(lon, lat, zm)\n",
    "\n",
    "        z=tile_mapping.z\n",
    "        x=tile_mapping.x\n",
    "        y=tile_mapping.y\n",
    "        t_url = f'https://tiles.planet.com/basemaps/v1/planet-tiles/{mosaic_name}/gmap/{z}/{x}/{y}.png?api_key={PLANET_API_KEY}'\n",
    "\n",
    "        im_path = f'pngs_planet_256_2018_no/{x}_{y}_{z}.png'\n",
    "        \n",
    "        # skip if existing\n",
    "        if os.path.exists(im_path):\n",
    "            continue\n",
    "            \n",
    "        urllib.request.urlretrieve(t_url, im_path)\n",
    "\n",
    "        xp_ls.append(x)\n",
    "        yp_ls.append(y)\n",
    "        zp_ls.append(z)\n",
    "        fp_ls.append(im_path)\n",
    "        \n",
    "    except Exception as e:\n",
    "        print(e)\n",
    "        xp_ls.append(np.nan)\n",
    "        yp_ls.append(np.nan)\n",
    "        zp_ls.append(np.nan)\n",
    "        fp_ls.append(np.nan)\n",
    "    \n",
    "\n",
    "    "
   ]
  },
  {
   "cell_type": "code",
   "execution_count": 11,
   "metadata": {},
   "outputs": [],
   "source": [
    "planet_df = pd.DataFrame({'tile_x':xp_ls,\n",
    "                        'tile_y': yp_ls,\n",
    "                       'tile_z': zp_ls,\n",
    "                       'filename': fp_ls})"
   ]
  },
  {
   "cell_type": "code",
   "execution_count": 12,
   "metadata": {},
   "outputs": [
    {
     "data": {
      "text/plain": [
       "(907,)"
      ]
     },
     "execution_count": 12,
     "metadata": {},
     "output_type": "execute_result"
    }
   ],
   "source": [
    "planet_df['filename'].unique().shape"
   ]
  },
  {
   "cell_type": "code",
   "execution_count": 13,
   "metadata": {},
   "outputs": [],
   "source": [
    "planet_df.to_csv('png_planet_256_2018_no.csv')"
   ]
  },
  {
   "cell_type": "code",
   "execution_count": 28,
   "metadata": {},
   "outputs": [
    {
     "name": "stdout",
     "output_type": "stream",
     "text": [
      "cannot convert float NaN to integer\n",
      "cannot convert float NaN to integer\n",
      "cannot convert float NaN to integer\n",
      "cannot convert float NaN to integer\n",
      "cannot convert float NaN to integer\n",
      "cannot convert float NaN to integer\n",
      "cannot convert float NaN to integer\n",
      "cannot convert float NaN to integer\n",
      "cannot convert float NaN to integer\n",
      "cannot convert float NaN to integer\n",
      "cannot convert float NaN to integer\n",
      "cannot convert float NaN to integer\n",
      "cannot convert float NaN to integer\n",
      "cannot convert float NaN to integer\n"
     ]
    }
   ],
   "source": [
    "xp_ls, yp_ls, zp_ls, fp_ls = [],[],[],[]\n",
    "\n",
    "# generate dataframe from \n",
    "for row in rwanda_pts.iterrows():\n",
    "    \n",
    "    try:\n",
    "        lon = row[1]['geometry'].x\n",
    "        lat = row[1]['geometry'].y\n",
    "        zm = 15\n",
    "        tile_mapping = mercantile.tile(lon, lat, zm)\n",
    "\n",
    "        z=tile_mapping.z\n",
    "        x=tile_mapping.x\n",
    "        y=tile_mapping.y\n",
    "        t_url = f'https://tiles.planet.com/basemaps/v1/planet-tiles/{mosaic_name}/gmap/{z}/{x}/{y}.png?api_key={PLANET_API_KEY}'\n",
    "\n",
    "        im_path = f'pngs_planet_256/{x}_{y}_{z}.png'\n",
    "                    \n",
    "        #urllib.request.urlretrieve(t_url, im_path)\n",
    "\n",
    "        xp_ls.append(x)\n",
    "        yp_ls.append(y)\n",
    "        zp_ls.append(z)\n",
    "        fp_ls.append(im_path)\n",
    "        \n",
    "    except Exception as e:\n",
    "        print(e)\n",
    "        xp_ls.append(np.nan)\n",
    "        yp_ls.append(np.nan)\n",
    "        zp_ls.append(np.nan)\n",
    "        fp_ls.append(np.nan)"
   ]
  },
  {
   "cell_type": "code",
   "execution_count": 16,
   "metadata": {},
   "outputs": [],
   "source": [
    "planet_df = pd.DataFrame({'tile_x':xp_ls,\n",
    "                        'tile_y': yp_ls,\n",
    "                       'tile_z': zp_ls,\n",
    "                       'filename': fp_ls})"
   ]
  },
  {
   "cell_type": "code",
   "execution_count": 17,
   "metadata": {},
   "outputs": [
    {
     "data": {
      "text/plain": [
       "(1253,)"
      ]
     },
     "execution_count": 17,
     "metadata": {},
     "output_type": "execute_result"
    }
   ],
   "source": [
    "planet_df['filename'].unique().shape\n",
    "planet_df.to_csv('png_planet_256_2018.csv')"
   ]
  },
  {
   "cell_type": "markdown",
   "metadata": {},
   "source": [
    "# run for bing maps"
   ]
  },
  {
   "cell_type": "code",
   "execution_count": 14,
   "metadata": {},
   "outputs": [],
   "source": [
    "from shapely.affinity import translate\n",
    "from functools import partial\n",
    "\n",
    "def add_coord_noise(df, maxdist=10):\n",
    "    \n",
    "    # add some spatial noise within specified limit\n",
    "    x_shift = np.random.randn()*maxdist\n",
    "    y_shift = np.random.randn()*maxdist\n",
    "    \n",
    "    # project the data and reproject back\n",
    "    df = df.to_crs(epsg=3857)\n",
    "    mapfunc = partial(translate, xoff=x_shift, yoff=y_shift)\n",
    "    df['geometry'] = list(map(mapfunc, df['geometry']))\n",
    "    df = df.to_crs(epsg=4326)\n",
    "    \n",
    "    return df"
   ]
  },
  {
   "cell_type": "code",
   "execution_count": 17,
   "metadata": {},
   "outputs": [
    {
     "name": "stdout",
     "output_type": "stream",
     "text": [
      "<urlopen error [WinError 10060] A connection attempt failed because the connected party did not properly respond after a period of time, or established connection failed because connected host has failed to respond>\n",
      "<urlopen error [WinError 10060] A connection attempt failed because the connected party did not properly respond after a period of time, or established connection failed because connected host has failed to respond>\n",
      "<urlopen error [WinError 10060] A connection attempt failed because the connected party did not properly respond after a period of time, or established connection failed because connected host has failed to respond>\n",
      "<urlopen error [WinError 10060] A connection attempt failed because the connected party did not properly respond after a period of time, or established connection failed because connected host has failed to respond>\n",
      "<urlopen error [WinError 10060] A connection attempt failed because the connected party did not properly respond after a period of time, or established connection failed because connected host has failed to respond>\n",
      "<urlopen error [WinError 10060] A connection attempt failed because the connected party did not properly respond after a period of time, or established connection failed because connected host has failed to respond>\n",
      "<urlopen error [WinError 10060] A connection attempt failed because the connected party did not properly respond after a period of time, or established connection failed because connected host has failed to respond>\n"
     ]
    }
   ],
   "source": [
    "x_ls, y_ls, z_ls, f_ls = [],[],[],[]\n",
    "\n",
    "# add spatial noise to each point, e.g., 10 meters\n",
    "#rwanda_pts_coordnoise = add_coord_noise(rwanda_pts, 10)\n",
    "rwanda_pts_coordnoise = rwanda_pts\n",
    "\n",
    "# download tile for each point\n",
    "for row in rwanda_pts_coordnoise.iterrows():\n",
    "    # specify a point from the geodataframe of accepted stages\n",
    "    # get a tile coordiante for lon lat  (get from GDF)\n",
    "    #pt_index=50\n",
    "    #lon = rwanda_pts_NR.geometry[pt_index].x\n",
    "    #lat = rwanda_pts_NR.geometry[pt_index].y\n",
    "    \n",
    "    try:\n",
    "        rc = 512\n",
    "\n",
    "        lon = row[1]['geometry'].x\n",
    "        lat = row[1]['geometry'].y\n",
    "        zm = 17 # ~1.2m\n",
    "\n",
    "        tile_mapping = mercantile.tile(lon, lat, zm)\n",
    "\n",
    "        z=tile_mapping.z\n",
    "        x=tile_mapping.x\n",
    "        y=tile_mapping.y\n",
    "        t_url = f'https://tiles.planet.com/basemaps/v1/planet-tiles/{mosaic_name}/gmap/{z}/{x}/{y}.png?api_key={PLANET_API_KEY}'\n",
    "        t_url = f'https://dev.virtualearth.net/REST/v1/Imagery/Map/Aerial/{lat},{lon}/{zm}?&format=png&mapSize={rc},{rc}&key=AgvMyZ32gp8jGrrVIN4I8tXRhfx3jmZKo0jgUaA9b1LHcq_yyGkmvGPS1nUXmzvs' \n",
    "\n",
    "        im_path = f'pngs_bing_256_no/rwanda_bing_{x}_{y}_{z}.png'\n",
    "        urllib.request.urlretrieve(t_url, im_path)\n",
    "\n",
    "        x_ls.append(x)\n",
    "        y_ls.append(y)\n",
    "        z_ls.append(z)\n",
    "        f_ls.append(im_path)\n",
    "        \n",
    "    except Exception as e:\n",
    "        print(e)\n",
    "        x_ls.append(np.nan)\n",
    "        y_ls.append(np.nan)\n",
    "        z_ls.append(np.nan)\n",
    "        f_ls.append(np.nan)\n",
    "        \n"
   ]
  },
  {
   "cell_type": "code",
   "execution_count": 18,
   "metadata": {},
   "outputs": [],
   "source": [
    "bing_df = pd.DataFrame({'tile_x':x_ls,\n",
    "                        'tile_y': y_ls,\n",
    "                       'tile_z': z_ls,\n",
    "                       'filename': f_ls})"
   ]
  },
  {
   "cell_type": "code",
   "execution_count": 19,
   "metadata": {},
   "outputs": [
    {
     "data": {
      "text/plain": [
       "(987,)"
      ]
     },
     "execution_count": 19,
     "metadata": {},
     "output_type": "execute_result"
    }
   ],
   "source": [
    "bing_df['filename'].unique().shape"
   ]
  },
  {
   "cell_type": "markdown",
   "metadata": {},
   "source": [
    "Write data frames to csv"
   ]
  },
  {
   "cell_type": "code",
   "execution_count": 20,
   "metadata": {},
   "outputs": [],
   "source": [
    "bing_df.to_csv('png_bing_256_no.csv')\n"
   ]
  },
  {
   "cell_type": "code",
   "execution_count": null,
   "metadata": {},
   "outputs": [],
   "source": []
  }
 ],
 "metadata": {
  "kernelspec": {
   "display_name": "Python3 (eapy_gbdx)",
   "language": "python",
   "name": "eapy_gbdx"
  },
  "language_info": {
   "codemirror_mode": {
    "name": "ipython",
    "version": 3
   },
   "file_extension": ".py",
   "mimetype": "text/x-python",
   "name": "python",
   "nbconvert_exporter": "python",
   "pygments_lexer": "ipython3",
   "version": "3.6.7"
  }
 },
 "nbformat": 4,
 "nbformat_minor": 2
}
