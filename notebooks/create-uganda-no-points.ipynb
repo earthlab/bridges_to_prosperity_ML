{
 "cells": [
  {
   "cell_type": "code",
   "execution_count": 1,
   "metadata": {},
   "outputs": [],
   "source": [
    "import geopandas as gpd\n",
    "from shapely.ops import nearest_points\n",
    "from shapely.geometry import Point\n",
    "import random\n",
    "from fiona.crs import from_epsg\n",
    "import os, sys\n",
    "from glob import glob\n",
    "import pandas as pd\n",
    "from matplotlib import pyplot as plt\n",
    "\n",
    "gpd.io.file.fiona.drvsupport.supported_drivers['KML'] = 'rw'"
   ]
  },
  {
   "cell_type": "code",
   "execution_count": 3,
   "metadata": {},
   "outputs": [
    {
     "data": {
      "image/png": "[encoded data removed]",
      "text/plain": [
       "<Figure size 432x288 with 1 Axes>"
      ]
     },
     "metadata": {
      "needs_background": "light"
     },
     "output_type": "display_data"
    }
   ],
   "source": [
    "poly_fis = glob(r'./uganda_initial_no_AOIs/*.kml')\n",
    "poly_df_list = [gpd.read_file(f, driver='KML') for f in poly_fis]\n",
    "poly_df = gpd.GeoDataFrame(pd.concat(poly_df_list), crs=poly_df_list[0].crs)\n",
    "\n",
    "poly_df.plot()\n",
    "plt.show()\n",
    "# yes_pts_fi = r'../../rwanda/B2P_Rwanda_bridge_sites_2019_05_08.shp'\n",
    "\n",
    "# poly_df = gpd.read_file(poly_fi)\n",
    "# yes_pts_df = gpd.read_file(yes_pts_fi)"
   ]
  },
  {
   "cell_type": "code",
   "execution_count": 8,
   "metadata": {},
   "outputs": [
    {
     "data": {
      "text/html": [
       "<div>\n",
       "<style scoped>\n",
       "    .dataframe tbody tr th:only-of-type {\n",
       "        vertical-align: middle;\n",
       "    }\n",
       "\n",
       "    .dataframe tbody tr th {\n",
       "        vertical-align: top;\n",
       "    }\n",
       "\n",
       "    .dataframe thead th {\n",
       "        text-align: right;\n",
       "    }\n",
       "</style>\n",
       "<table border=\"1\" class=\"dataframe\">\n",
       "  <thead>\n",
       "    <tr style=\"text-align: right;\">\n",
       "      <th></th>\n",
       "      <th>Opportunity Name</th>\n",
       "      <th>Form Name</th>\n",
       "      <th>Close Date</th>\n",
       "      <th>Stage</th>\n",
       "      <th>Sub-Stage</th>\n",
       "      <th>Bridge Type</th>\n",
       "      <th>Level 1 Government</th>\n",
       "      <th>Level 2 Government</th>\n",
       "      <th>GPS (Latitude)</th>\n",
       "      <th>GPS (Longitude)</th>\n",
       "      <th>Individuals Directly Served</th>\n",
       "      <th>B2P Fiscal Year</th>\n",
       "      <th>Flag for Rejection</th>\n",
       "      <th>Rejection Reason</th>\n",
       "      <th>Notes on site</th>\n",
       "      <th>Technical Concerns</th>\n",
       "      <th>Needs Assessment Comments</th>\n",
       "    </tr>\n",
       "  </thead>\n",
       "  <tbody>\n",
       "    <tr>\n",
       "      <th>0</th>\n",
       "      <td>Uganda - Mihani-Karichadi - 1014455</td>\n",
       "      <td>Project Assessment - 2018.11.22</td>\n",
       "      <td>2021-12-31</td>\n",
       "      <td>Ready to Confirm</td>\n",
       "      <td>NaN</td>\n",
       "      <td>NaN</td>\n",
       "      <td>Western Region</td>\n",
       "      <td>Kasese</td>\n",
       "      <td>0.464045</td>\n",
       "      <td>30.139073</td>\n",
       "      <td>5195.0</td>\n",
       "      <td>2021</td>\n",
       "      <td>No</td>\n",
       "      <td>NaN</td>\n",
       "      <td>Through the left hand side, the site is better...</td>\n",
       "      <td>NaN</td>\n",
       "      <td>NaN</td>\n",
       "    </tr>\n",
       "    <tr>\n",
       "      <th>1</th>\n",
       "      <td>Uganda - Busibi-Nyamba - 1014454</td>\n",
       "      <td>Project Assessment - 2018.11.22</td>\n",
       "      <td>2018-12-31</td>\n",
       "      <td>Identified</td>\n",
       "      <td>Identified in Needs Assessment</td>\n",
       "      <td>NaN</td>\n",
       "      <td>Western Region</td>\n",
       "      <td>Kasese</td>\n",
       "      <td>0.438299</td>\n",
       "      <td>30.160822</td>\n",
       "      <td>12400.0</td>\n",
       "      <td>2019</td>\n",
       "      <td>No</td>\n",
       "      <td>NaN</td>\n",
       "      <td>The site is not easily accessible except by fo...</td>\n",
       "      <td>NaN</td>\n",
       "      <td>NaN</td>\n",
       "    </tr>\n",
       "    <tr>\n",
       "      <th>2</th>\n",
       "      <td>Uganda - Nyakabugha-Bikone - 1014457</td>\n",
       "      <td>Project Assessment - 2018.11.22</td>\n",
       "      <td>2018-12-31</td>\n",
       "      <td>Identified</td>\n",
       "      <td>Identified in Needs Assessment</td>\n",
       "      <td>NaN</td>\n",
       "      <td>Western Region</td>\n",
       "      <td>Kasese</td>\n",
       "      <td>0.341503</td>\n",
       "      <td>30.052577</td>\n",
       "      <td>19265.0</td>\n",
       "      <td>2019</td>\n",
       "      <td>No</td>\n",
       "      <td>NaN</td>\n",
       "      <td>The site is not very well accessible at the mo...</td>\n",
       "      <td>NaN</td>\n",
       "      <td>NaN</td>\n",
       "    </tr>\n",
       "    <tr>\n",
       "      <th>3</th>\n",
       "      <td>Uganda - Kabingo-Busingo - 1014458</td>\n",
       "      <td>Project Assessment - 2018.11.22</td>\n",
       "      <td>2018-12-31</td>\n",
       "      <td>Identified</td>\n",
       "      <td>Identified in Needs Assessment</td>\n",
       "      <td>NaN</td>\n",
       "      <td>Western Region</td>\n",
       "      <td>Kasese</td>\n",
       "      <td>0.150543</td>\n",
       "      <td>29.926509</td>\n",
       "      <td>6000.0</td>\n",
       "      <td>2019</td>\n",
       "      <td>No</td>\n",
       "      <td>NaN</td>\n",
       "      <td>The accessibility to site is not so favorable ...</td>\n",
       "      <td>NaN</td>\n",
       "      <td>NaN</td>\n",
       "    </tr>\n",
       "    <tr>\n",
       "      <th>4</th>\n",
       "      <td>Uganda - Karujumba - 1014456</td>\n",
       "      <td>Project Assessment - 2018.11.22</td>\n",
       "      <td>2018-12-31</td>\n",
       "      <td>Identified</td>\n",
       "      <td>Identified in Needs Assessment</td>\n",
       "      <td>NaN</td>\n",
       "      <td>Western Region</td>\n",
       "      <td>Kasese</td>\n",
       "      <td>0.064435</td>\n",
       "      <td>29.911981</td>\n",
       "      <td>15755.0</td>\n",
       "      <td>2019</td>\n",
       "      <td>No</td>\n",
       "      <td>NaN</td>\n",
       "      <td>The site is generally well accessible as it ha...</td>\n",
       "      <td>NaN</td>\n",
       "      <td>NaN</td>\n",
       "    </tr>\n",
       "  </tbody>\n",
       "</table>\n",
       "</div>"
      ],
      "text/plain": [
       "                       Opportunity Name                        Form Name  \\\n",
       "0   Uganda - Mihani-Karichadi - 1014455  Project Assessment - 2018.11.22   \n",
       "1      Uganda - Busibi-Nyamba - 1014454  Project Assessment - 2018.11.22   \n",
       "2  Uganda - Nyakabugha-Bikone - 1014457  Project Assessment - 2018.11.22   \n",
       "3    Uganda - Kabingo-Busingo - 1014458  Project Assessment - 2018.11.22   \n",
       "4          Uganda - Karujumba - 1014456  Project Assessment - 2018.11.22   \n",
       "\n",
       "  Close Date             Stage                       Sub-Stage Bridge Type  \\\n",
       "0 2021-12-31  Ready to Confirm                             NaN         NaN   \n",
       "1 2018-12-31        Identified  Identified in Needs Assessment         NaN   \n",
       "2 2018-12-31        Identified  Identified in Needs Assessment         NaN   \n",
       "3 2018-12-31        Identified  Identified in Needs Assessment         NaN   \n",
       "4 2018-12-31        Identified  Identified in Needs Assessment         NaN   \n",
       "\n",
       "  Level 1 Government Level 2 Government  GPS (Latitude)  GPS (Longitude)  \\\n",
       "0     Western Region             Kasese        0.464045        30.139073   \n",
       "1     Western Region             Kasese        0.438299        30.160822   \n",
       "2     Western Region             Kasese        0.341503        30.052577   \n",
       "3     Western Region             Kasese        0.150543        29.926509   \n",
       "4     Western Region             Kasese        0.064435        29.911981   \n",
       "\n",
       "   Individuals Directly Served  B2P Fiscal Year Flag for Rejection  \\\n",
       "0                       5195.0             2021                 No   \n",
       "1                      12400.0             2019                 No   \n",
       "2                      19265.0             2019                 No   \n",
       "3                       6000.0             2019                 No   \n",
       "4                      15755.0             2019                 No   \n",
       "\n",
       "  Rejection Reason                                      Notes on site  \\\n",
       "0              NaN  Through the left hand side, the site is better...   \n",
       "1              NaN  The site is not easily accessible except by fo...   \n",
       "2              NaN  The site is not very well accessible at the mo...   \n",
       "3              NaN  The accessibility to site is not so favorable ...   \n",
       "4              NaN  The site is generally well accessible as it ha...   \n",
       "\n",
       "  Technical Concerns Needs Assessment Comments  \n",
       "0                NaN                       NaN  \n",
       "1                NaN                       NaN  \n",
       "2                NaN                       NaN  \n",
       "3                NaN                       NaN  \n",
       "4                NaN                       NaN  "
      ]
     },
     "execution_count": 8,
     "metadata": {},
     "output_type": "execute_result"
    }
   ],
   "source": [
    "# load the current bridge sites\n",
    "uganda_bridge_xls = r'./uganda_initial_no_AOIs/Uganda All sites.xlsx'\n",
    "#sheet_names = pd.ExcelFile(uganda_bridge_xls).sheet_names\n",
    "\n",
    "uganda_yes_df = pd.read_excel(uganda_bridge_xls, engine='openpyxl') #, sheet_name=sheet_names[0])\n",
    "uganda_yes_df.head()"
   ]
  },
  {
   "cell_type": "code",
   "execution_count": 9,
   "metadata": {},
   "outputs": [
    {
     "data": {
      "text/plain": [
       "array([[ 3.01390730e+01,  4.64045000e-01],\n",
       "       [ 3.01608220e+01,  4.38299000e-01],\n",
       "       [ 3.00525770e+01,  3.41503000e-01],\n",
       "       [ 2.99265090e+01,  1.50543000e-01],\n",
       "       [ 2.99119810e+01,  6.44350000e-02],\n",
       "       [ 3.04220060e+01, -1.26645000e-01],\n",
       "       [ 3.00996140e+01,  3.20219000e-01],\n",
       "       [ 3.04269290e+01, -2.10705000e-01],\n",
       "       [ 3.05704080e+01, -3.11150000e-02],\n",
       "       [ 3.04372230e+01, -2.87358000e-01],\n",
       "       [ 3.04514170e+01, -4.01170000e-02],\n",
       "       [ 3.05402100e+01, -4.33600000e-02],\n",
       "       [ 3.05699060e+01, -1.09694000e-01],\n",
       "       [ 3.02030020e+01,  5.90396000e-01],\n",
       "       [ 3.03076620e+01,  7.59376000e-01],\n",
       "       [ 3.01727020e+01,  6.83200000e-01],\n",
       "       [ 3.02970000e+01,  7.36377000e-01],\n",
       "       [ 3.03173330e+01,  7.44009000e-01],\n",
       "       [ 3.02867750e+01,  6.81862000e-01],\n",
       "       [ 3.01741270e+01,  6.87666000e-01],\n",
       "       [ 3.03395550e+01,  7.45246000e-01],\n",
       "       [ 3.04841310e+01,  8.62348000e-01],\n",
       "       [ 3.03473150e+01,  7.53969000e-01],\n",
       "       [ 3.03471440e+01,  7.54248000e-01],\n",
       "       [ 3.01499880e+01,  6.60638000e-01],\n",
       "       [ 3.04988040e+01, -1.47430000e-01],\n",
       "       [ 3.05307840e+01, -1.76814000e-01],\n",
       "       [ 3.05292606e+01, -1.88037200e-01],\n",
       "       [ 3.00397440e+01,  3.43699000e-01],\n",
       "       [ 3.01098180e+01,  2.66854000e-01],\n",
       "       [ 3.01785110e+01,  8.91714000e-01],\n",
       "       [ 2.99975670e+01,  2.21417000e-01],\n",
       "       [ 3.00301770e+01,  1.86533000e-01],\n",
       "       [ 3.00157780e+01,  1.97593000e-01],\n",
       "       [ 3.00393880e+01,  2.14307000e-01],\n",
       "       [ 3.05686010e+01, -4.35310000e-02],\n",
       "       [ 2.99943010e+01,  6.67187000e-01],\n",
       "       [ 3.01746230e+01,  6.87056000e-01],\n",
       "       [ 3.00598770e+01,  7.35176000e-01],\n",
       "       [ 3.00920980e+01, -3.14403000e-01],\n",
       "       [ 3.01721460e+01, -2.25961000e-01],\n",
       "       [ 3.02000910e+01, -1.82909000e-01],\n",
       "       [ 3.00959590e+01, -3.50505000e-01],\n",
       "       [ 3.00823940e+01, -2.89979000e-01],\n",
       "       [ 3.01742380e+01, -2.27783000e-01],\n",
       "       [ 3.01783500e+01, -1.70735000e-01],\n",
       "       [ 3.05555700e+01, -1.20476000e-01],\n",
       "       [ 3.02832610e+01, -1.15367000e-01],\n",
       "       [ 3.08797800e+01,  1.14253000e+00],\n",
       "       [ 3.01507870e+01,  6.61233000e-01],\n",
       "       [ 3.01780750e+01,  5.95350000e-01],\n",
       "       [ 3.02629140e+01,  7.03121000e-01],\n",
       "       [ 3.02512070e+01,  6.81577000e-01],\n",
       "       [ 3.01499290e+01,  3.48308000e-01],\n",
       "       [ 3.01508960e+01,  3.55903000e-01],\n",
       "       [ 3.00246610e+01,  6.22532000e-01],\n",
       "       [ 2.99913850e+01,  6.14398000e-01],\n",
       "       [ 2.99715510e+01,  5.83917000e-01],\n",
       "       [ 3.00598770e+01,  7.35176000e-01],\n",
       "       [ 3.00665330e+01,  7.26095000e-01],\n",
       "       [ 3.00665330e+01,  7.26095000e-01],\n",
       "       [ 3.00665330e+01,  7.26095000e-01],\n",
       "       [ 3.01087340e+01,  7.01762000e-01],\n",
       "       [ 3.00507250e+01,  6.59703000e-01],\n",
       "       [ 3.00507250e+01,  6.59703000e-01],\n",
       "       [ 3.01003150e+01,  7.16687000e-01],\n",
       "       [ 3.01087340e+01,  7.01762000e-01],\n",
       "       [ 3.01119370e+01,  7.50878000e-01],\n",
       "       [ 3.01119370e+01,  7.50878000e-01],\n",
       "       [ 3.01105190e+01,  7.49486000e-01],\n",
       "       [ 3.01105190e+01,  7.49486000e-01],\n",
       "       [ 3.00305830e+01,  6.35027000e-01],\n",
       "       [ 3.00305830e+01,  6.35027000e-01],\n",
       "       [ 3.00979650e+01,  7.60931000e-01],\n",
       "       [ 3.00979650e+01,  7.60931000e-01],\n",
       "       [ 3.00979650e+01,  7.60931000e-01],\n",
       "       [ 3.01175350e+01,  7.00612000e-01],\n",
       "       [ 3.00812170e+01,  7.03490000e-01],\n",
       "       [ 3.01314970e+01,  7.57341000e-01],\n",
       "       [ 3.01314970e+01,  7.57341000e-01],\n",
       "       [ 3.00903030e+01,  6.84517000e-01],\n",
       "       [ 3.01314970e+01,  7.57341000e-01],\n",
       "       [ 3.00903030e+01,  6.84517000e-01],\n",
       "       [ 3.00903030e+01,  6.84517000e-01],\n",
       "       [ 2.99797970e+01,  6.13734000e-01],\n",
       "       [ 3.05699060e+01, -1.09694000e-01],\n",
       "       [ 3.04359600e+01, -6.22380000e-02],\n",
       "       [ 3.04372230e+01, -2.87358000e-01],\n",
       "       [ 3.05999130e+01,  3.34340000e-02],\n",
       "       [ 3.04985360e+01, -2.49153000e-01],\n",
       "       [ 3.05259030e+01, -9.07350000e-02],\n",
       "       [ 3.04548590e+01, -2.15210000e-01],\n",
       "       [ 2.97393580e+01,  8.92150000e-02],\n",
       "       [ 3.00482670e+01, -1.12665300e+00],\n",
       "       [ 3.00005550e+01,  6.41949000e-01],\n",
       "       [ 3.00662100e+01,  7.11685000e-01],\n",
       "       [ 3.00660110e+01,  6.88192000e-01],\n",
       "       [ 3.03056610e+01,  7.31018000e-01],\n",
       "       [ 2.99744310e+01,  6.65085000e-01],\n",
       "       [ 2.99630530e+01,  6.71205000e-01],\n",
       "       [ 2.99727170e+01,  6.60758000e-01],\n",
       "       [ 2.99881780e+01,  5.91305000e-01],\n",
       "       [ 2.99940550e+01,  6.85106000e-01],\n",
       "       [ 2.99745730e+01,  6.93256000e-01],\n",
       "       [ 2.99745730e+01,  6.93256000e-01],\n",
       "       [ 2.99969750e+01,  6.72921000e-01],\n",
       "       [ 2.99969750e+01,  6.72921000e-01],\n",
       "       [ 3.02629140e+01,  7.03121000e-01],\n",
       "       [ 3.01006560e+01,  7.37634000e-01],\n",
       "       [ 3.00964670e+01,  7.58385000e-01],\n",
       "       [ 3.01089300e+01,  7.32674000e-01],\n",
       "       [ 3.00420960e+01,  7.62011000e-01],\n",
       "       [ 2.99828170e+01,  6.77802000e-01],\n",
       "       [ 2.99828170e+01,  6.77802000e-01],\n",
       "       [ 3.00671680e+01,  6.74027000e-01],\n",
       "       [ 3.00671680e+01,  6.74027000e-01],\n",
       "       [ 3.00852700e+01,  6.72019000e-01],\n",
       "       [ 3.00760830e+01,  6.80325000e-01],\n",
       "       [ 3.00788700e+01,  6.89072000e-01],\n",
       "       [ 3.00709570e+01,  6.80980000e-01],\n",
       "       [ 3.00709570e+01,  6.80980000e-01],\n",
       "       [ 2.99850530e+01,  6.74206000e-01],\n",
       "       [ 2.99850530e+01,  6.74206000e-01],\n",
       "       [ 3.01387570e+01,  8.00634000e-01],\n",
       "       [ 3.01467640e+01,  7.99587000e-01],\n",
       "       [ 3.01838620e+01,  7.05787000e-01],\n",
       "       [ 3.02970000e+01,  7.36377000e-01],\n",
       "       [ 3.01492920e+01,  6.12115000e-01],\n",
       "       [ 3.01741270e+01,  6.87666000e-01],\n",
       "       [ 3.02512070e+01,  6.81577000e-01],\n",
       "       [ 3.01575040e+01,  6.31910000e-01],\n",
       "       [ 3.03076620e+01,  7.59376000e-01],\n",
       "       [ 3.02030020e+01,  5.90396000e-01],\n",
       "       [ 3.01499880e+01,  6.60638000e-01],\n",
       "       [ 3.04841310e+01,  8.62348000e-01],\n",
       "       [ 3.02936580e+01,  7.25351000e-01],\n",
       "       [ 3.02867750e+01,  6.81862000e-01],\n",
       "       [ 3.03155070e+01,  7.64399000e-01],\n",
       "       [ 3.03473150e+01,  7.53969000e-01],\n",
       "       [ 3.01727020e+01,  6.83200000e-01],\n",
       "       [ 3.03395550e+01,  7.45246000e-01],\n",
       "       [ 3.01660710e+01,  6.27926000e-01],\n",
       "       [ 3.03173330e+01,  7.44009000e-01],\n",
       "       [ 3.01780750e+01,  5.95350000e-01],\n",
       "       [ 3.03471440e+01,  7.54248000e-01],\n",
       "       [ 3.03056610e+01,  7.31018000e-01],\n",
       "       [ 3.05686010e+01, -4.35310000e-02],\n",
       "       [ 3.05257870e+01, -5.95660000e-02],\n",
       "       [ 3.05402100e+01, -4.33600000e-02],\n",
       "       [ 3.04269290e+01, -2.10705000e-01],\n",
       "       [ 3.00397980e+01,  2.14105000e-01],\n",
       "       [ 3.00930330e+01,  4.72357000e-01],\n",
       "       [ 3.01106480e+01,  2.89855000e-01],\n",
       "       [ 3.05704080e+01, -3.11150000e-02],\n",
       "       [ 3.05385380e+01,  4.52270000e-02],\n",
       "       [ 3.04514170e+01, -4.01170000e-02],\n",
       "       [ 3.47269810e+01,  1.28383200e+00],\n",
       "       [ 3.43852152e+01,  1.39226820e+00],\n",
       "       [ 3.43856750e+01,  8.71720000e-01],\n",
       "       [ 3.43703517e+01,  8.82758300e-01],\n",
       "       [ 3.43390500e+01,  1.13205000e+00],\n",
       "       [ 3.43041730e+01,  9.84685000e-01],\n",
       "       [ 3.43958300e+01,  8.85873000e-01],\n",
       "       [ 3.45216560e+01,  1.35877900e+00],\n",
       "       [ 3.44204057e+01,  8.88166000e-01],\n",
       "       [ 3.42968670e+01,  9.59983000e-01],\n",
       "       [ 3.42658000e+01,  8.11033000e-01],\n",
       "       [ 3.42772950e+01,  7.94760000e-01],\n",
       "       [ 3.43814650e+01,  8.50370000e-01],\n",
       "       [ 3.42947170e+01,  9.42300000e-01],\n",
       "       [ 3.42346170e+01,  1.04186300e+00],\n",
       "       [ 3.43018370e+01,  1.01538000e+00],\n",
       "       [ 3.42491000e+01,  1.10636700e+00],\n",
       "       [ 3.43942527e+01,  1.31256450e+00],\n",
       "       [ 3.42345000e+01,  9.24750000e-01],\n",
       "       [ 3.43325170e+01,  8.92650000e-01],\n",
       "       [ 3.43123970e+01,  7.94080000e-01],\n",
       "       [ 3.43076220e+01,  1.00528500e+00],\n",
       "       [ 3.43195670e+01,  9.09650000e-01],\n",
       "       [ 3.42891200e+01,  1.20430000e+00],\n",
       "       [ 3.43905170e+01,  1.28306700e+00],\n",
       "       [ 3.42296270e+01,  1.04723700e+00],\n",
       "       [ 3.44037750e+01,  1.00455500e+00],\n",
       "       [ 3.45465680e+01,  1.42196900e+00],\n",
       "       [ 3.43904900e+01,  8.80880000e-01],\n",
       "       [ 3.43742902e+01,  1.39470330e+00],\n",
       "       [ 3.43032060e+01,  1.32333800e+00],\n",
       "       [ 3.42417580e+01,  1.30800200e+00],\n",
       "       [ 3.43030880e+01,  1.00183300e+00],\n",
       "       [ 3.43511500e+01,  1.39775000e+00],\n",
       "       [ 3.43877870e+01,  8.49230000e-01],\n",
       "       [ 3.43120670e+01,  4.43650000e-01],\n",
       "       [ 3.44013350e+01,  8.76361000e-01],\n",
       "       [ 3.43194187e+01,  8.71901400e-01],\n",
       "       [ 3.42638170e+01,  8.12568000e-01],\n",
       "       [ 3.44065130e+01,  8.84084000e-01],\n",
       "       [ 3.43818730e+01,  8.76430000e-01],\n",
       "       [ 3.43013670e+01,  8.41833000e-01],\n",
       "       [ 3.43862343e+01,  1.33533300e+00],\n",
       "       [ 3.41670600e+01,  1.07893300e+00],\n",
       "       [ 3.44150586e+01,  1.35441490e+00],\n",
       "       [ 3.44041691e+01,  1.36643250e+00],\n",
       "       [ 3.43875400e+01,  8.66960000e-01],\n",
       "       [ 3.44225626e+01,  8.61201700e-01],\n",
       "       [ 3.41843830e+01,  1.15473300e+00],\n",
       "       [ 3.42895500e+01,  9.55983000e-01],\n",
       "       [ 3.43042670e+01,  1.01281000e+00],\n",
       "       [ 3.46997370e+01,  1.28387500e+00],\n",
       "       [ 3.43333000e+01,  1.15108300e+00],\n",
       "       [ 3.42191000e+01,  1.09640000e+00],\n",
       "       [ 3.42336170e+01,  9.34300000e-01],\n",
       "       [ 3.43758450e+01,  8.73360000e-01],\n",
       "       [ 3.43143660e+01,  1.28082700e+00],\n",
       "       [ 3.43292060e+01,  1.25294300e+00],\n",
       "       [ 3.43126320e+01,  1.27324200e+00],\n",
       "       [ 3.45492310e+01,  1.42375600e+00],\n",
       "       [ 3.45909660e+01,  1.42107100e+00],\n",
       "       [ 3.45598690e+01,  1.41874500e+00],\n",
       "       [ 3.43716420e+01,  1.00797400e+00],\n",
       "       [ 3.46894580e+01,  1.28268600e+00],\n",
       "       [ 3.46265000e+01,  1.41137000e+00],\n",
       "       [ 3.45386520e+01,  1.41127000e+00],\n",
       "       [ 3.45000750e+01,  1.41018200e+00],\n",
       "       [ 3.43605300e+01,  1.31696000e+00],\n",
       "       [ 3.45275250e+01,  1.40506900e+00],\n",
       "       [ 3.46769860e+01,  1.28088600e+00],\n",
       "       [ 3.45121450e+01,  1.40308500e+00],\n",
       "       [ 3.45918000e+01,  1.42257700e+00],\n",
       "       [ 3.45954610e+01,  1.40752600e+00],\n",
       "       [ 3.43454000e+01,  1.32593000e+00],\n",
       "       [ 3.43701883e+01,  8.86578300e-01],\n",
       "       [ 3.43343225e+01,  1.37365700e+00],\n",
       "       [ 3.42401330e+01,  8.49600000e-01],\n",
       "       [ 3.44201456e+01,  8.56349000e-01],\n",
       "       [ 3.43483679e+01,  1.36691720e+00],\n",
       "       [ 3.44159420e+01,  1.04786100e+00],\n",
       "       [ 3.43958250e+01,  1.00525800e+00],\n",
       "       [ 3.43877700e+01,  1.00007500e+00],\n",
       "       [ 3.43847350e+01,  8.46340000e-01],\n",
       "       [ 3.43787230e+01,  8.59017000e-01],\n",
       "       [ 3.44216050e+01,  1.03617700e+00],\n",
       "       [ 3.43870217e+01,  8.60538300e-01],\n",
       "       [ 3.42826170e+01,  9.81200000e-01],\n",
       "       [ 3.43630830e+01,  1.29850000e+00],\n",
       "       [ 3.43078500e+01,  9.33400000e-01],\n",
       "       [ 3.42335300e+01,  1.20663000e+00],\n",
       "       [ 3.43227380e+01,  1.22042200e+00],\n",
       "       [ 3.43150190e+01,  1.21231800e+00],\n",
       "       [ 3.43092700e+01,  1.03028300e+00],\n",
       "       [ 3.47084850e+01,  1.28019400e+00],\n",
       "       [ 3.47462940e+01,  1.29724300e+00],\n",
       "       [ 3.47121120e+01,  1.40259200e+00],\n",
       "       [ 3.43839417e+01,  8.91120000e-01],\n",
       "       [ 3.43588000e+01,  1.24490000e+00],\n",
       "       [ 3.47223600e+01,  1.41913500e+00],\n",
       "       [ 3.47261140e+01,  1.43918800e+00],\n",
       "       [ 3.43957163e+01,  1.34274210e+00],\n",
       "       [ 3.44580097e+01,  1.37907780e+00],\n",
       "       [ 3.43753500e+01,  1.29463300e+00],\n",
       "       [ 3.44016731e+01,  1.00448500e+00],\n",
       "       [ 3.53550830e+01,  1.28925000e+00],\n",
       "       [ 3.42804830e+01,  9.78583000e-01],\n",
       "       [ 3.43176560e+01,  1.03107500e+00],\n",
       "       [ 3.43188010e+01,  1.04659800e+00],\n",
       "       [ 3.43070200e+01,  1.17108300e+00],\n",
       "       [ 3.43988950e+01,  8.74328300e-01],\n",
       "       [ 3.42691000e+01,  1.93788300e+00],\n",
       "       [ 3.43204144e+01,  9.19890900e-01],\n",
       "       [ 3.43900700e+01,  1.25670000e+00],\n",
       "       [ 3.43221480e+01,  1.03097700e+00],\n",
       "       [ 3.42294300e+01,  1.06876700e+00],\n",
       "       [ 3.43005170e+01,  1.38565000e+00],\n",
       "       [ 3.43072970e+01,  1.00849700e+00],\n",
       "       [ 3.47000490e+01,  1.39036300e+00],\n",
       "       [ 3.43032740e+01,  1.19280900e+00],\n",
       "       [ 3.44219840e+01,  1.13237100e+00],\n",
       "       [ 3.43181530e+01,  1.27854300e+00],\n",
       "       [ 3.43123850e+01,  1.31437500e+00],\n",
       "       [ 3.43887160e+01,  1.05283700e+00],\n",
       "       [ 3.44023800e+01,  1.06209800e+00],\n",
       "       [ 3.42524600e+01,  1.11633000e+00],\n",
       "       [ 3.43949970e+01,  1.21213600e+00],\n",
       "       [ 3.43353700e+01,  1.04064500e+00],\n",
       "       [ 3.43871120e+01,  1.07347900e+00],\n",
       "       [ 3.43207440e+01,  1.06492800e+00],\n",
       "       [ 3.43837750e+01,  1.07231300e+00],\n",
       "       [ 3.45055800e+01,  1.35625600e+00],\n",
       "       [ 3.45223130e+01,  1.35952100e+00],\n",
       "       [ 3.45662790e+01,  1.37229400e+00],\n",
       "       [ 3.47197050e+01,  1.45943800e+00],\n",
       "       [ 3.47188820e+01,  1.43021300e+00],\n",
       "       [ 3.45833670e+01,  1.38614200e+00],\n",
       "       [ 3.46797800e+01,  1.51134300e+00],\n",
       "       [ 3.42749600e+01,  1.00796000e+00],\n",
       "       [ 3.43072110e+01,  1.00866600e+00],\n",
       "       [ 3.43304580e+01,  1.03470900e+00],\n",
       "       [ 3.43503640e+01,  1.05971200e+00],\n",
       "       [ 3.43439350e+01,  1.05454600e+00],\n",
       "       [ 3.43064090e+01,  9.87674000e-01],\n",
       "       [ 3.47489190e+01,  1.41677500e+00],\n",
       "       [ 3.47441740e+01,  1.21821400e+00],\n",
       "       [ 3.47439900e+01,  1.24316200e+00],\n",
       "       [ 3.47186280e+01,  1.28061800e+00],\n",
       "       [ 3.48113070e+01,  1.30476700e+00],\n",
       "       [ 3.47960310e+01,  1.21992000e+00],\n",
       "       [ 3.48048200e+01,  1.22772500e+00],\n",
       "       [ 3.47645550e+01,  1.25508600e+00],\n",
       "       [ 3.46480910e+01,  1.37874900e+00],\n",
       "       [ 3.46104690e+01,  1.41057200e+00],\n",
       "       [ 3.43670840e+01,  1.06898000e+00],\n",
       "       [ 3.43698190e+01,  1.02864300e+00],\n",
       "       [ 3.43612100e+01,  1.01542600e+00],\n",
       "       [ 3.43705800e+01,  9.96547000e-01],\n",
       "       [ 3.43721930e+01,  1.01444900e+00],\n",
       "       [ 3.43626630e+01,  1.00072700e+00],\n",
       "       [ 3.44078450e+01,  1.04244500e+00],\n",
       "       [ 3.43979200e+01,  1.02926400e+00],\n",
       "       [ 3.43669360e+01,  1.01755100e+00]])"
      ]
     },
     "execution_count": 9,
     "metadata": {},
     "output_type": "execute_result"
    }
   ],
   "source": [
    "uganda_yes_df[['GPS (Longitude)','GPS (Latitude)']].astype('float').dropna().values"
   ]
  },
  {
   "cell_type": "code",
   "execution_count": 10,
   "metadata": {},
   "outputs": [],
   "source": [
    "uganda_yes_ptGeom = list(map(Point, uganda_yes_df[['GPS (Longitude)','GPS (Latitude)']].astype('float').dropna().values))"
   ]
  },
  {
   "cell_type": "code",
   "execution_count": 11,
   "metadata": {},
   "outputs": [
    {
     "name": "stderr",
     "output_type": "stream",
     "text": [
      "C:\\software\\anaconda3\\envs\\gbdx017\\lib\\site-packages\\pyproj\\crs\\crs.py:53: FutureWarning: '+init=<authority>:<code>' syntax is deprecated. '<authority>:<code>' is the preferred initialization method. When making the change, be mindful of axis order changes: https://pyproj4.github.io/pyproj/stable/gotchas.html#axis-order-changes-in-proj-6\n",
      "  return _prepare_from_string(\" \".join(pjargs))\n"
     ]
    },
    {
     "data": {
      "text/plain": [
       "<matplotlib.axes._subplots.AxesSubplot at 0x1ac574aaf98>"
      ]
     },
     "execution_count": 11,
     "metadata": {},
     "output_type": "execute_result"
    },
    {
     "data": {
      "image/png": "[encoded data removed]",
      "text/plain": [
       "<Figure size 432x288 with 1 Axes>"
      ]
     },
     "metadata": {
      "needs_background": "light"
     },
     "output_type": "display_data"
    }
   ],
   "source": [
    "uganda_yes_gdf = gpd.GeoDataFrame({'geometry':uganda_yes_ptGeom}, crs=from_epsg(4326))\n",
    "uganda_yes_gdf.plot()"
   ]
  },
  {
   "cell_type": "code",
   "execution_count": 12,
   "metadata": {},
   "outputs": [
    {
     "data": {
      "image/png": "[encoded data removed]",
      "text/plain": [
       "<Figure size 432x288 with 1 Axes>"
      ]
     },
     "metadata": {
      "needs_background": "light"
     },
     "output_type": "display_data"
    }
   ],
   "source": [
    "ax = poly_df.plot(label='no-polys')\n",
    "uganda_yes_gdf.plot(ax=ax, c='r', label='current bridge sites')\n",
    "plt.legend()\n",
    "plt.show()"
   ]
  },
  {
   "cell_type": "code",
   "execution_count": 13,
   "metadata": {},
   "outputs": [
    {
     "data": {
      "image/svg+xml": [
       "<svg xmlns=\"http://www.w3.org/2000/svg\" xmlns:xlink=\"http://www.w3.org/1999/xlink\" width=\"100.0\" height=\"100.0\" viewBox=\"30.125701275685167 -1.1134645541176162 3.9216315331833513 3.357604415745857\" preserveAspectRatio=\"xMinYMin meet\"><g transform=\"matrix(1,0,0,-1,0,1.1306753075106246)\"><g><path fill-rule=\"evenodd\" fill=\"#66cc99\" stroke=\"#555555\" stroke-width=\"0.07843263066366703\" opacity=\"0.6\" d=\"M 32.70194316409818,-0.4059465139283106 L 33.12507026776191,-0.3494669587835579 L 33.48015556228978,-0.1397389990641339 L 33.88397433460743,-0.3927826739252492 L 33.90208719652839,-0.9682189417774922 L 33.43109933404813,-0.9645830304744889 L 32.4542217147755,-0.9674415290510734 L 32.70194316409818,-0.4059465139283106 z\" /><path fill-rule=\"evenodd\" fill=\"#66cc99\" stroke=\"#555555\" stroke-width=\"0.07843263066366703\" opacity=\"0.6\" d=\"M 32.45787540087944,0.04630873884161867 L 32.4611554246791,0.03962505589901717 L 32.45743965786328,0.03695343640007921 L 32.44931651671433,0.03131528576263295 L 32.44650430047893,0.02331338275558921 L 32.43952815071225,0.02396242530746973 L 32.43573868398746,0.05172807118058399 L 32.43991151096233,0.05181543172152669 L 32.44872940900979,0.04618051733023254 L 32.45787540087944,0.04630873884161867 z\" /><path fill-rule=\"evenodd\" fill=\"#66cc99\" stroke=\"#555555\" stroke-width=\"0.07843263066366703\" opacity=\"0.6\" d=\"M 32.46524169566112,0.05659183500014622 L 32.47612105366785,0.05768475601727485 L 32.47847882445738,0.05159002851309984 L 32.47787903579437,0.04741266208975545 L 32.47055487017379,0.04484236209562756 L 32.46524169566112,0.05659183500014622 z\" /><path fill-rule=\"evenodd\" fill=\"#66cc99\" stroke=\"#555555\" stroke-width=\"0.07843263066366703\" opacity=\"0.6\" d=\"M 32.73171899732234,0.10289235238934 L 32.82206575925841,0.09064298381924853 L 32.79976663396882,0.05179159860563683 L 32.74138433077265,0.00310445284227649 L 32.65305632483159,0.005650966907876804 L 32.64837276954357,0.0480621471099598 L 32.68893508258482,0.08253389881187977 L 32.73171899732234,0.10289235238934 z\" /><path fill-rule=\"evenodd\" fill=\"#66cc99\" stroke=\"#555555\" stroke-width=\"0.07843263066366703\" opacity=\"0.6\" d=\"M 32.4616191614738,0.06042141146332295 L 32.46538997208364,0.05524482450453808 L 32.46213563676871,0.05319556175062515 L 32.4592878136119,0.05884661998509989 L 32.4616191614738,0.06042141146332295 z\" /><path fill-rule=\"evenodd\" fill=\"#66cc99\" stroke=\"#555555\" stroke-width=\"0.07843263066366703\" opacity=\"0.6\" d=\"M 32.45150394250403,0.07091066024892219 L 32.45381745598032,0.0715721946838691 L 32.45533743757253,0.06841623516337571 L 32.45753499217484,0.06421429284994289 L 32.45538809829227,0.06271199180011677 L 32.45354141310214,0.06501944126161707 L 32.45267674961296,0.06750760410160897 L 32.45150394250403,0.07091066024892219 z\" /><path fill-rule=\"evenodd\" fill=\"#66cc99\" stroke=\"#555555\" stroke-width=\"0.07843263066366703\" opacity=\"0.6\" d=\"M 32.56232761211185,0.2951519377082455 L 32.56208787283842,0.2895132735714697 L 32.5713386230662,0.2891932406250829 L 32.57185623068856,0.2943203116597132 L 32.56232761211185,0.2951519377082455 z\" /><path fill-rule=\"evenodd\" fill=\"#66cc99\" stroke=\"#555555\" stroke-width=\"0.07843263066366703\" opacity=\"0.6\" d=\"M 32.59793959497387,0.2957799239281722 L 32.60227846700159,0.2984057468209034 L 32.59964747699749,0.3030654879662803 L 32.59544268917352,0.3009732261770701 L 32.59793959497387,0.2957799239281722 z\" /><path fill-rule=\"evenodd\" fill=\"#66cc99\" stroke=\"#555555\" stroke-width=\"0.07843263066366703\" opacity=\"0.6\" d=\"M 32.54146517477547,0.3023351989062385 L 32.53022567727713,0.3058191338539598 L 32.52763681250295,0.3004204129708039 L 32.54197659610436,0.2957748323572621 L 32.54146517477547,0.3023351989062385 z\" /><path fill-rule=\"evenodd\" fill=\"#66cc99\" stroke=\"#555555\" stroke-width=\"0.07843263066366703\" opacity=\"0.6\" d=\"M 32.57667473115109,0.3177675728846873 L 32.57017634041249,0.3162605775755239 L 32.57257061332657,0.3083930648092347 L 32.5789399782165,0.310996640998743 L 32.5827272222542,0.3106074795795435 L 32.58317168671791,0.3141258566310028 L 32.57667473115109,0.3177675728846873 z\" /><path fill-rule=\"evenodd\" fill=\"#66cc99\" stroke=\"#555555\" stroke-width=\"0.07843263066366703\" opacity=\"0.6\" d=\"M 30.28038724353681,0.6528814264821771 L 30.28026344745468,0.6594789119983469 L 30.27094688802529,0.6603671887549131 L 30.27259687625737,0.6514025545093982 L 30.28038724353681,0.6528814264821771 z\" /><path fill-rule=\"evenodd\" fill=\"#66cc99\" stroke=\"#555555\" stroke-width=\"0.07843263066366703\" opacity=\"0.6\" d=\"M 31.37576877871234,2.084546562406333 L 31.26046767511111,2.093872492256571 L 31.23340795041447,2.098245650392432 L 31.19049310985319,2.098894249288117 L 31.17329332402955,2.067373269689135 L 31.13816549604698,2.042243464449744 L 31.11643709081797,2.030799766057676 L 31.107609930349,2.028731051810337 L 31.09657129956925,2.025620463228649 L 31.08866968738629,2.017773599647611 L 31.0835382110714,2.011058199754153 L 31.07872286466427,2.007988309994287 L 31.06915875268142,2.002516221690856 L 31.06149026109107,1.998151486955368 L 31.05289280724003,1.989153053104818 L 31.03680815330962,1.978312046497436 L 31.03178346921002,1.973720851912792 L 31.00343655559508,1.953783448744715 L 31.00217723395154,1.941685410766104 L 30.98520743217719,1.931606346443143 L 30.96737473432263,1.936998929866423 L 30.93688946419323,1.909239989557696 L 30.90877106526081,1.888487421119663 L 30.84797769726368,1.803886780219373 L 30.77155540674958,1.753170239989526 L 30.68079381278374,1.647329500966272 L 30.62755367643425,1.602680116305351 L 30.56400546101319,1.563433497138685 L 30.54293676590653,1.536238275073562 L 30.50627806343291,1.505822558018892 L 30.50376036040719,1.482548322584518 L 30.48980246847789,1.441870303955789 L 30.56034966917804,1.157641768622986 L 30.63272564671615,1.126730371056786 L 30.95770609971804,1.547957875985055 L 31.0047412555474,1.536100872384315 L 31.07057386194181,1.592019232493152 L 31.07985269518753,1.586326027623741 L 31.0900688263214,1.588452179709956 L 31.1163416720291,1.582856260630689 L 31.14319810862085,1.588663913204189 L 31.15619617681465,1.597072105094087 L 31.16780944194839,1.605008368931145 L 31.17425551617481,1.611866307034666 L 31.17946588229147,1.615489141595466 L 31.20844564073051,1.63674478722847 L 31.21909196239203,1.646375547670933 L 31.22586038041122,1.65331347042919 L 31.23426103223699,1.660968852696644 L 31.23814650166611,1.672135401454392 L 31.2479059092509,1.673256727601828 L 31.25338421476001,1.681167831927903 L 31.26050952957952,1.682675938266945 L 31.26588423209034,1.686179119295963 L 31.27344210677787,1.690815115884688 L 31.28708103059838,1.703039436433125 L 31.29211173667727,1.710315717868192 L 31.30188418326848,1.72696662657874 L 31.32206781107272,1.828833926616617 L 31.3511221367091,1.8202597854973 L 31.37119585163683,1.830165221081257 L 31.3897442205056,1.874498470154605 L 31.40231922669103,1.919975905574053 L 31.4045636291347,1.961713910227386 L 31.4037244021487,1.99776852435839 L 31.40348191544904,2.047578016110267 L 31.37576877871234,2.084546562406333 z\" /></g></g></svg>"
      ],
      "text/plain": [
       "<shapely.geometry.multipolygon.MultiPolygon at 0x1ac574d7f60>"
      ]
     },
     "execution_count": 13,
     "metadata": {},
     "output_type": "execute_result"
    }
   ],
   "source": [
    "poly_df.geometry.unary_union"
   ]
  },
  {
   "cell_type": "code",
   "execution_count": 14,
   "metadata": {},
   "outputs": [],
   "source": [
    "def random_points_within(poly, num_points, check_pts):\n",
    "    \"\"\"Generate <num_points> random points within a geometry.\n",
    "    \n",
    "    Parameters\n",
    "    ---------------------------------\n",
    "    poly: a Shapely Polygon geometry\n",
    "        This is the geometry within which a random point will be generated.\n",
    "    \n",
    "    num_points: number of points to generate within the polygon\n",
    "        See above.\n",
    "    \n",
    "    Usage Notes\n",
    "    ---------------------------------\n",
    "    This is a 'brute force' method in that a random point is generated within the *extent* of the geometry \n",
    "    until that point is within the actual geometry. For highly irregular polygons this could take a while.\n",
    "    \n",
    "    \"\"\"\n",
    "    \n",
    "        \n",
    "    min_x, min_y, max_x, max_y = poly.bounds\n",
    "\n",
    "    points = []\n",
    "\n",
    "    while len(points) < num_points:\n",
    "        random_point = Point([random.uniform(min_x, max_x), random.uniform(min_y, max_y)])\n",
    "        if (random_point.within(poly)):\n",
    "            \n",
    "            # check for distance\n",
    "            if nearest_dist(random_point, check_pts, check_dist=1500):\n",
    "                points.append(random_point)\n",
    "                \n",
    "                \n",
    "\n",
    "    points_df = gpd.GeoDataFrame({'geometry': points}, crs=from_epsg(3857))\n",
    "    \n",
    "    return points_df.to_crs(epsg=4326)\n",
    "\n",
    "def nearest_dist(rp, cp, check_dist=1500):\n",
    "    \"\"\"check distance of rp is less than check_dist of any points in cp.\n",
    "    \n",
    "    Parameters\n",
    "    ---------------------------------\n",
    "    rp: a Shapely Point geometry\n",
    "        This is the random point to check against cp.\n",
    "    \n",
    "    cp: a GeoPandas GeoDataFrame containing Shapely Point geometries\n",
    "        Contains point geometries to compare to rp.\n",
    "        \n",
    "    check_dist: float\n",
    "        distance specified for point to be closest to any point in cp\n",
    "    \n",
    "    Usage Notes\n",
    "    ---------------------------------\n",
    "    This is a 'brute force' method in that a random point is generated within the *extent* of the geometry \n",
    "    until that point is within the actual geometry. For highly irregular polygons this could take a while.\n",
    "    \n",
    "    \"\"\"\n",
    "    \n",
    "    min_distance = min_dist(rp, cp)\n",
    "    \n",
    "    return min_distance > check_dist\n",
    "    \n",
    "    \n",
    "def min_dist(point, gpd2):\n",
    "    #gpd2['Dist'] = gpd2.apply(lambda row:  point.distance(row['geometry']))\n",
    "    gpd2['Dist'] = list(map(point.distance, gpd2['geometry']))\n",
    "    geoseries = gpd2.iloc[gpd2['Dist'].argmin()]\n",
    "    \n",
    "    return gpd2['Dist'].min()"
   ]
  },
  {
   "cell_type": "code",
   "execution_count": 31,
   "metadata": {},
   "outputs": [
    {
     "data": {
      "text/plain": [
       "(323, 17)"
      ]
     },
     "execution_count": 31,
     "metadata": {},
     "output_type": "execute_result"
    }
   ],
   "source": [
    "uganda_yes_df.shape"
   ]
  },
  {
   "cell_type": "code",
   "execution_count": 32,
   "metadata": {},
   "outputs": [
    {
     "name": "stderr",
     "output_type": "stream",
     "text": [
      "C:\\software\\anaconda3\\envs\\gbdx017\\lib\\site-packages\\pyproj\\crs\\crs.py:53: FutureWarning: '+init=<authority>:<code>' syntax is deprecated. '<authority>:<code>' is the preferred initialization method. When making the change, be mindful of axis order changes: https://pyproj4.github.io/pyproj/stable/gotchas.html#axis-order-changes-in-proj-6\n",
      "  return _prepare_from_string(\" \".join(pjargs))\n"
     ]
    }
   ],
   "source": [
    "uganda_no_gdf = random_points_within(poly_df.to_crs(epsg=3857)['geometry'].unary_union, uganda_yes_df.shape[0], uganda_yes_gdf.to_crs(epsg=3857))\n",
    "# pts = random_points_within(poly_df.to_crs(epsg=3857)['geometry'][0], 1000, yes_pts_df.to_crs(epsg=3857))"
   ]
  },
  {
   "cell_type": "code",
   "execution_count": 34,
   "metadata": {},
   "outputs": [
    {
     "data": {
      "text/plain": [
       "<Figure size 1080x1080 with 0 Axes>"
      ]
     },
     "metadata": {},
     "output_type": "display_data"
    },
    {
     "data": {
      "image/png": "[encoded data removed]",
      "text/plain": [
       "<Figure size 432x288 with 1 Axes>"
      ]
     },
     "metadata": {
      "needs_background": "light"
     },
     "output_type": "display_data"
    }
   ],
   "source": [
    "# add points to plot\n",
    "plt.figure(figsize=(15,15))\n",
    "ax = poly_df.plot(label='no-polys')\n",
    "uganda_yes_gdf.plot(ax=ax, c='g', alpha=0.4, label='current bridge sites')\n",
    "uganda_no_gdf.plot(ax=ax, c='r', alpha=0.4)\n",
    "plt.legend()\n",
    "plt.show()"
   ]
  },
  {
   "cell_type": "code",
   "execution_count": null,
   "metadata": {},
   "outputs": [],
   "source": []
  },
  {
   "cell_type": "code",
   "execution_count": null,
   "metadata": {},
   "outputs": [],
   "source": []
  },
  {
   "cell_type": "code",
   "execution_count": null,
   "metadata": {},
   "outputs": [],
   "source": []
  },
  {
   "cell_type": "code",
   "execution_count": 78,
   "metadata": {},
   "outputs": [],
   "source": [
    "pts.to_file(r'../../rwanda/rwanda_no_pts_1000.shp')"
   ]
  },
  {
   "cell_type": "code",
   "execution_count": 85,
   "metadata": {},
   "outputs": [],
   "source": [
    "lakes = gpd.read_file('../../rwanda/RWA_water.gpkg', layer='lakes')"
   ]
  },
  {
   "cell_type": "code",
   "execution_count": 88,
   "metadata": {},
   "outputs": [
    {
     "data": {
      "text/plain": [
       "<matplotlib.axes._subplots.AxesSubplot at 0x23eb38d57b8>"
      ]
     },
     "execution_count": 88,
     "metadata": {},
     "output_type": "execute_result"
    },
    {
     "data": {
      "image/png": "[encoded data removed]",
      "text/plain": [
       "<Figure size 432x288 with 1 Axes>"
      ]
     },
     "metadata": {
      "needs_background": "light"
     },
     "output_type": "display_data"
    }
   ],
   "source": [
    "lakes.plot()"
   ]
  },
  {
   "cell_type": "code",
   "execution_count": 101,
   "metadata": {},
   "outputs": [],
   "source": [
    "poly_minus_lakes = poly_df.difference(lakes.unary_union).unary_union\n",
    "poly_minus_lakes_df = gpd.GeoDataFrame({'geometry':[poly_minus_lakes]}, crs=from_epsg(4326))\n",
    "\n"
   ]
  },
  {
   "cell_type": "code",
   "execution_count": 102,
   "metadata": {},
   "outputs": [
    {
     "name": "stderr",
     "output_type": "stream",
     "text": [
      "C:\\software\\anaconda3\\envs\\eapy_gbdx\\lib\\site-packages\\ipykernel_launcher.py:67: FutureWarning: \n",
      "The current behaviour of 'Series.argmin' is deprecated, use 'idxmin'\n",
      "instead.\n",
      "The behavior of 'argmin' will be corrected to return the positional\n",
      "minimum in the future. For now, use 'series.values.argmin' or\n",
      "'np.argmin(np.array(values))' to get the position of the minimum\n",
      "row.\n"
     ]
    }
   ],
   "source": [
    "pts_minus_lakes = random_points_within(poly_minus_lakes_df.to_crs(epsg=3857)['geometry'][0], 1000, yes_pts_df.to_crs(epsg=3857))"
   ]
  },
  {
   "cell_type": "code",
   "execution_count": 103,
   "metadata": {},
   "outputs": [
    {
     "data": {
      "text/plain": [
       "<matplotlib.axes._subplots.AxesSubplot at 0x23eb1dc46a0>"
      ]
     },
     "execution_count": 103,
     "metadata": {},
     "output_type": "execute_result"
    },
    {
     "data": {
      "image/png": "[encoded data removed]",
      "text/plain": [
       "<Figure size 432x288 with 1 Axes>"
      ]
     },
     "metadata": {
      "needs_background": "light"
     },
     "output_type": "display_data"
    }
   ],
   "source": [
    "pts_minus_lakes.plot()"
   ]
  },
  {
   "cell_type": "code",
   "execution_count": 104,
   "metadata": {},
   "outputs": [
    {
     "name": "stderr",
     "output_type": "stream",
     "text": [
      "C:\\software\\anaconda3\\envs\\eapy_gbdx\\lib\\site-packages\\geopandas\\io\\file.py:108: FionaDeprecationWarning: Use fiona.Env() instead.\n",
      "  with fiona.drivers():\n"
     ]
    }
   ],
   "source": [
    "pts_minus_lakes.to_file(r'../../rwanda/rwanda_no_pts_1000_minus_lakes.shp')"
   ]
  },
  {
   "cell_type": "code",
   "execution_count": null,
   "metadata": {},
   "outputs": [],
   "source": []
  }
 ],
 "metadata": {
  "kernelspec": {
   "display_name": "Python (gbdx017)",
   "language": "python",
   "name": "gbdx017"
  },
  "language_info": {
   "codemirror_mode": {
    "name": "ipython",
    "version": 3
   },
   "file_extension": ".py",
   "mimetype": "text/x-python",
   "name": "python",
   "nbconvert_exporter": "python",
   "pygments_lexer": "ipython3",
   "version": "3.6.7"
  }
 },
 "nbformat": 4,
 "nbformat_minor": 2
}
