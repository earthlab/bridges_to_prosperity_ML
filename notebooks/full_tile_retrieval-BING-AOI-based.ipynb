{
 "cells": [
  {
   "cell_type": "code",
   "execution_count": 1,
   "metadata": {},
   "outputs": [],
   "source": [
    "import geopandas as gpd\n",
    "import os\n",
    "from pprint import pprint\n",
    "import numpy as np\n",
    "from matplotlib import pyplot as plt\n",
    "import rasterio as rio\n",
    "from shapely.geometry import Polygon\n",
    "from shapely.geometry import box\n",
    "\n",
    "# Import helper modules\n",
    "import json\n",
    "import mercantile\n",
    "import requests\n",
    "import urllib\n",
    "import pandas as pd\n",
    "\n",
    "from pl_b2p import *"
   ]
  },
  {
   "cell_type": "code",
   "execution_count": 2,
   "metadata": {},
   "outputs": [],
   "source": [
    "# # load the shapefile\n",
    "# rwanda_pts = gpd.read_file('../../rwanda/B2P_Rwanda_bridge_sites_2019_05_08.shp')\n",
    "# rwanda_pts.head()\n",
    "# print(rwanda_pts.Stage.unique())\n",
    "\n",
    "# rwanda_pts_NR = rwanda_pts[~rwanda_pts.Stage.isin(['Rejected', 'Identified'])].reset_index()\n",
    "# rwanda_pts_NR.shape, rwanda_pts.shape"
   ]
  },
  {
   "cell_type": "code",
   "execution_count": 3,
   "metadata": {},
   "outputs": [],
   "source": [
    "# rwanda_pts = gpd.read_file('../../rwanda/rwanda_no_pts_1000_minus_lakes.shp')"
   ]
  },
  {
   "cell_type": "markdown",
   "metadata": {},
   "source": [
    "Get all of 'em"
   ]
  },
  {
   "cell_type": "code",
   "execution_count": 4,
   "metadata": {},
   "outputs": [
    {
     "data": {
      "image/png": "[encoded data removed]",
      "text/plain": [
       "<Figure size 432x288 with 1 Axes>"
      ]
     },
     "metadata": {
      "needs_background": "light"
     },
     "output_type": "display_data"
    },
    {
     "data": {
      "text/plain": [
       "<Geographic 2D CRS: EPSG:4326>\n",
       "Name: WGS 84\n",
       "Axis Info [ellipsoidal]:\n",
       "- Lat[north]: Geodetic latitude (degree)\n",
       "- Lon[east]: Geodetic longitude (degree)\n",
       "Area of Use:\n",
       "- name: World\n",
       "- bounds: (-180.0, -90.0, 180.0, 90.0)\n",
       "Datum: World Geodetic System 1984\n",
       "- Ellipsoid: WGS 84\n",
       "- Prime Meridian: Greenwich"
      ]
     },
     "execution_count": 4,
     "metadata": {},
     "output_type": "execute_result"
    }
   ],
   "source": [
    "rwanda_poly = gpd.read_file(r\"D:\\projects\\bridges_to_prosperity\\Fwd__B2P_and_Earth_Lab_areas_of_interest\\rwanda_aoi_big.geojson\")\n",
    "rwanda_poly = gpd.read_file(r\"D:\\projects\\bridges_to_prosperity\\Fwd__B2P_and_Earth_Lab_areas_of_interest\\morija.geojson\")\n",
    "aoi_poly = gpd.read_file(\"./uganda_initial_no_AOIs/Ibanda_Kabarole_Kasese District Boundaries.shp\")\n",
    "aoi_poly = gpd.read_file(r\"D:\\projects\\bridges_to_prosperity\\Fwd__B2P_and_Earth_Lab_areas_of_interest\\rwanda_aoi_big.geojson\")\n",
    "aoi_poly = aoi_poly.to_crs(epsg=4326)\n",
    "aoi_poly.plot()\n",
    "plt.show()\n",
    "\n",
    "aoi_bounds = aoi_poly.unary_union.bounds\n",
    "aoi_poly.crs"
   ]
  },
  {
   "cell_type": "code",
   "execution_count": 5,
   "metadata": {},
   "outputs": [
    {
     "name": "stderr",
     "output_type": "stream",
     "text": [
      "C:\\software\\anaconda3\\envs\\gbdx017\\lib\\site-packages\\pyproj\\crs\\crs.py:53: FutureWarning: '+init=<authority>:<code>' syntax is deprecated. '<authority>:<code>' is the preferred initialization method. When making the change, be mindful of axis order changes: https://pyproj4.github.io/pyproj/stable/gotchas.html#axis-order-changes-in-proj-6\n",
      "  return _prepare_from_string(\" \".join(pjargs))\n"
     ]
    },
    {
     "name": "stdout",
     "output_type": "stream",
     "text": [
      "distance between tile centroids at level 16: 611.496m\n",
      "pixel distance between tile centroids at level 16: 256.178 pixels\n",
      "pixel distance between tile centroids at level 16, but using pixel size for 17: 511.284 pixels\n"
     ]
    },
    {
     "name": "stderr",
     "output_type": "stream",
     "text": [
      "C:\\software\\anaconda3\\envs\\gbdx017\\lib\\site-packages\\pyproj\\crs\\crs.py:53: FutureWarning: '+init=<authority>:<code>' syntax is deprecated. '<authority>:<code>' is the preferred initialization method. When making the change, be mindful of axis order changes: https://pyproj4.github.io/pyproj/stable/gotchas.html#axis-order-changes-in-proj-6\n",
      "  return _prepare_from_string(\" \".join(pjargs))\n"
     ]
    },
    {
     "name": "stdout",
     "output_type": "stream",
     "text": [
      "distance between tile centroids at level 17: 305.748m\n",
      "pixel distance between tile centroids at level 17: 255.642pixels\n"
     ]
    }
   ],
   "source": [
    "zm = 16 # for the bing images, SINCE WE CAN!\n",
    "pix_size = 2.387 #zm=16\n",
    "all_tiles_aoi = list(mercantile.tiles(*aoi_bounds, zooms=[zm]))\n",
    "center_pts = [box(*list(mercantile.bounds(t))).centroid for t in all_tiles_aoi]\n",
    "\n",
    "# how far apart are the center_pts?\n",
    "pts_df_4326 = gpd.GeoDataFrame({'geometry':center_pts}, crs=from_epsg(4326))\n",
    "pts_df_3857 = pts_df_4326.to_crs({'init': 'epsg:3857'})\n",
    "# pts_df_4326.plot()\n",
    "\n",
    "dist = pts_df_3857.geometry[0].distance(pts_df_3857.geometry[1])\n",
    "print(f'distance between tile centroids at level {zm}: {dist:.3f}m')\n",
    "print(f'pixel distance between tile centroids at level {zm}: {dist/pix_size:.3f} pixels')\n",
    "print(f'pixel distance between tile centroids at level {zm}, but using pixel size for 17: {dist/1.196:.3f} pixels')\n",
    "\n",
    "zm = 17 # for the bing images, SINCE WE CAN!\n",
    "pix_size = 1.196 #zm=17\n",
    "all_tiles_aoi = list(mercantile.tiles(*aoi_bounds, zooms=[zm]))\n",
    "center_pts = [box(*list(mercantile.bounds(t))).centroid for t in all_tiles_aoi]\n",
    "\n",
    "# how far apart are the center_pts?\n",
    "pts_df_4326 = gpd.GeoDataFrame({'geometry':center_pts}, crs=from_epsg(4326))\n",
    "pts_df_3857 = pts_df_4326.to_crs({'init': 'epsg:3857'})\n",
    "# pts_df_4326.plot()\n",
    "\n",
    "dist = pts_df_3857.geometry[0].distance(pts_df_3857.geometry[1])\n",
    "print(f'distance between tile centroids at level {zm}: {dist:.3f}m')\n",
    "print(f'pixel distance between tile centroids at level {zm}: {dist/pix_size:.3f}pixels')"
   ]
  },
  {
   "cell_type": "code",
   "execution_count": null,
   "metadata": {},
   "outputs": [],
   "source": []
  },
  {
   "cell_type": "code",
   "execution_count": 6,
   "metadata": {},
   "outputs": [],
   "source": [
    "from math import degrees, atan, sinh\n",
    "import gdal\n",
    "\n",
    "def x_to_lon_edges(x, z):\n",
    "    tile_count = pow(2, z)\n",
    "    unit = 360 / tile_count\n",
    "    lon1 = -180 + x * unit\n",
    "    lon2 = lon1 + unit\n",
    "    return(lon1, lon2)\n",
    "\n",
    "def mercatorToLat(mercatorY):\n",
    "    return(degrees(atan(sinh(mercatorY))))\n",
    "\n",
    "\n",
    "def y_to_lat_edges(y, z):\n",
    "    tile_count = pow(2, z)\n",
    "    unit = 1 / tile_count\n",
    "    relative_y1 = y * unit\n",
    "    relative_y2 = relative_y1 + unit\n",
    "    lat1 = mercatorToLat(np.pi * (1 - 2 * relative_y1))\n",
    "    lat2 = mercatorToLat(np.pi * (1 - 2 * relative_y2))\n",
    "    return(lat1, lat2)\n",
    "\n",
    "def tile_edges(x, y, z):\n",
    "    lat1, lat2 = y_to_lat_edges(y, z)\n",
    "    lon1, lon2 = x_to_lon_edges(x, z)\n",
    "    return[lon1, lat1, lon2, lat2]\n",
    "\n",
    "def georeference_raster_tile(x, y, z, path):\n",
    "    bounds = tile_edges(x, y, z)\n",
    "    filename, extension = os.path.splitext(path)\n",
    "    gdal.Translate(filename + '.tif',\n",
    "                   path,\n",
    "                   outputSRS='EPSG:4326',\n",
    "                   outputBounds=bounds)"
   ]
  },
  {
   "cell_type": "markdown",
   "metadata": {},
   "source": [
    "# run for bing maps"
   ]
  },
  {
   "cell_type": "code",
   "execution_count": 7,
   "metadata": {},
   "outputs": [],
   "source": [
    "from shapely.affinity import translate\n",
    "from functools import partial\n",
    "\n",
    "def add_coord_noise(df, maxdist=10):\n",
    "    \n",
    "    # add some spatial noise within specified limit\n",
    "    x_shift = np.random.randn()*maxdist\n",
    "    y_shift = np.random.randn()*maxdist\n",
    "    \n",
    "    # project the data and reproject back\n",
    "    df = df.to_crs(epsg=3857)\n",
    "    mapfunc = partial(translate, xoff=x_shift, yoff=y_shift)\n",
    "    df['geometry'] = list(map(mapfunc, df['geometry']))\n",
    "    df = df.to_crs(epsg=4326)\n",
    "    \n",
    "    return df"
   ]
  },
  {
   "cell_type": "code",
   "execution_count": 8,
   "metadata": {},
   "outputs": [
    {
     "name": "stderr",
     "output_type": "stream",
     "text": [
      "C:\\software\\anaconda3\\envs\\gbdx017\\lib\\site-packages\\pyproj\\crs\\crs.py:53: FutureWarning: '+init=<authority>:<code>' syntax is deprecated. '<authority>:<code>' is the preferred initialization method. When making the change, be mindful of axis order changes: https://pyproj4.github.io/pyproj/stable/gotchas.html#axis-order-changes-in-proj-6\n",
      "  return _prepare_from_string(\" \".join(pjargs))\n"
     ]
    }
   ],
   "source": [
    "# create geometries for image tiles, should be non-overlapping, but pixel requests will be slightly.\n",
    "zm = 16 # for the bing images, SINCE WE CAN!\n",
    "pix_size16 = 2.387 #zm=16\n",
    "pix_size17 = 1.196 #zm=17\n",
    "all_tiles_aoi = list(mercantile.tiles(*aoi_bounds, zooms=[zm]))\n",
    "center_pts = [box(*list(mercantile.bounds(t))).centroid for t in all_tiles_aoi]\n",
    "tile_polys = [box(*list(mercantile.bounds(t))) for t in all_tiles_aoi]\n",
    "\n",
    "# how far apart are the center_pts?\n",
    "pts_df_4326 = gpd.GeoDataFrame({'geometry':center_pts}, crs=from_epsg(4326))\n",
    "poly_df_4326 = gpd.GeoDataFrame({'geometry':tile_polys}, crs=from_epsg(4326))\n",
    "\n",
    "# write out one of em\n",
    "poly_df_4326.to_file('test_aoi_tiles.geojson', driver='GeoJSON')"
   ]
  },
  {
   "cell_type": "code",
   "execution_count": 9,
   "metadata": {},
   "outputs": [
    {
     "data": {
      "text/plain": [
       "<matplotlib.axes._subplots.AxesSubplot at 0x1d321f33ba8>"
      ]
     },
     "execution_count": 9,
     "metadata": {},
     "output_type": "execute_result"
    },
    {
     "data": {
      "image/png": "[encoded data removed]",
      "text/plain": [
       "<Figure size 720x720 with 1 Axes>"
      ]
     },
     "metadata": {
      "needs_background": "light"
     },
     "output_type": "display_data"
    }
   ],
   "source": [
    "ax = aoi_poly.plot(figsize=(10,10))\n",
    "poly_df_4326.plot(ax=ax, edgecolor='k', alpha=0.1)"
   ]
  },
  {
   "cell_type": "code",
   "execution_count": 10,
   "metadata": {},
   "outputs": [],
   "source": [
    "# need to overlay and select ones that intersect\n",
    "# aoi_poly_df_4326 = gpd.overlay(poly_df_4326, aoi_poly, how='intersection') # i think this clips the edge tiles\n",
    "aoi_poly_df_4326 = poly_df_4326[poly_df_4326.intersects(aoi_poly.unary_union)]\n"
   ]
  },
  {
   "cell_type": "code",
   "execution_count": 11,
   "metadata": {},
   "outputs": [
    {
     "data": {
      "text/plain": [
       "<matplotlib.axes._subplots.AxesSubplot at 0x1d32250ffd0>"
      ]
     },
     "execution_count": 11,
     "metadata": {},
     "output_type": "execute_result"
    },
    {
     "data": {
      "image/png": "[encoded data removed]",
      "text/plain": [
       "<Figure size 720x720 with 1 Axes>"
      ]
     },
     "metadata": {
      "needs_background": "light"
     },
     "output_type": "display_data"
    }
   ],
   "source": [
    "ax = aoi_poly.plot(figsize=(10,10))\n",
    "aoi_poly_df_4326.plot(ax=ax, edgecolor='k', alpha=0.1)"
   ]
  },
  {
   "cell_type": "code",
   "execution_count": 12,
   "metadata": {},
   "outputs": [
    {
     "data": {
      "text/plain": [
       "(32417, 1)"
      ]
     },
     "execution_count": 12,
     "metadata": {},
     "output_type": "execute_result"
    }
   ],
   "source": [
    "aoi_poly_df_4326.shape"
   ]
  },
  {
   "cell_type": "code",
   "execution_count": 42,
   "metadata": {},
   "outputs": [
    {
     "name": "stdout",
     "output_type": "stream",
     "text": [
      "<urlopen error [WinError 10060] A connection attempt failed because the connected party did not properly respond after a period of time, or established connection failed because connected host has failed to respond>\n",
      "<urlopen error [WinError 10060] A connection attempt failed because the connected party did not properly respond after a period of time, or established connection failed because connected host has failed to respond>\n",
      "<urlopen error [WinError 10060] A connection attempt failed because the connected party did not properly respond after a period of time, or established connection failed because connected host has failed to respond>\n",
      "<urlopen error [WinError 10060] A connection attempt failed because the connected party did not properly respond after a period of time, or established connection failed because connected host has failed to respond>\n",
      "<urlopen error [WinError 10060] A connection attempt failed because the connected party did not properly respond after a period of time, or established connection failed because connected host has failed to respond>\n",
      "<urlopen error [WinError 10060] A connection attempt failed because the connected party did not properly respond after a period of time, or established connection failed because connected host has failed to respond>\n",
      "<urlopen error [WinError 10060] A connection attempt failed because the connected party did not properly respond after a period of time, or established connection failed because connected host has failed to respond>\n",
      "<urlopen error [WinError 10060] A connection attempt failed because the connected party did not properly respond after a period of time, or established connection failed because connected host has failed to respond>\n",
      "<urlopen error [WinError 10060] A connection attempt failed because the connected party did not properly respond after a period of time, or established connection failed because connected host has failed to respond>\n",
      "<urlopen error [WinError 10060] A connection attempt failed because the connected party did not properly respond after a period of time, or established connection failed because connected host has failed to respond>\n",
      "<urlopen error [WinError 10060] A connection attempt failed because the connected party did not properly respond after a period of time, or established connection failed because connected host has failed to respond>\n",
      "<urlopen error [WinError 10060] A connection attempt failed because the connected party did not properly respond after a period of time, or established connection failed because connected host has failed to respond>\n",
      "<urlopen error [WinError 10060] A connection attempt failed because the connected party did not properly respond after a period of time, or established connection failed because connected host has failed to respond>\n",
      "<urlopen error [WinError 10060] A connection attempt failed because the connected party did not properly respond after a period of time, or established connection failed because connected host has failed to respond>\n",
      "<urlopen error [WinError 10060] A connection attempt failed because the connected party did not properly respond after a period of time, or established connection failed because connected host has failed to respond>\n",
      "<urlopen error [WinError 10060] A connection attempt failed because the connected party did not properly respond after a period of time, or established connection failed because connected host has failed to respond>\n",
      "<urlopen error [WinError 10060] A connection attempt failed because the connected party did not properly respond after a period of time, or established connection failed because connected host has failed to respond>\n",
      "<urlopen error [WinError 10060] A connection attempt failed because the connected party did not properly respond after a period of time, or established connection failed because connected host has failed to respond>\n",
      "<urlopen error [WinError 10060] A connection attempt failed because the connected party did not properly respond after a period of time, or established connection failed because connected host has failed to respond>\n",
      "<urlopen error [WinError 10060] A connection attempt failed because the connected party did not properly respond after a period of time, or established connection failed because connected host has failed to respond>\n",
      "<urlopen error [WinError 10060] A connection attempt failed because the connected party did not properly respond after a period of time, or established connection failed because connected host has failed to respond>\n",
      "<urlopen error [WinError 10060] A connection attempt failed because the connected party did not properly respond after a period of time, or established connection failed because connected host has failed to respond>\n",
      "<urlopen error [WinError 10060] A connection attempt failed because the connected party did not properly respond after a period of time, or established connection failed because connected host has failed to respond>\n",
      "<urlopen error [WinError 10060] A connection attempt failed because the connected party did not properly respond after a period of time, or established connection failed because connected host has failed to respond>\n",
      "<urlopen error [WinError 10060] A connection attempt failed because the connected party did not properly respond after a period of time, or established connection failed because connected host has failed to respond>\n",
      "<urlopen error [WinError 10060] A connection attempt failed because the connected party did not properly respond after a period of time, or established connection failed because connected host has failed to respond>\n",
      "<urlopen error [WinError 10060] A connection attempt failed because the connected party did not properly respond after a period of time, or established connection failed because connected host has failed to respond>\n",
      "<urlopen error [WinError 10060] A connection attempt failed because the connected party did not properly respond after a period of time, or established connection failed because connected host has failed to respond>\n",
      "<urlopen error [WinError 10060] A connection attempt failed because the connected party did not properly respond after a period of time, or established connection failed because connected host has failed to respond>\n",
      "<urlopen error [WinError 10060] A connection attempt failed because the connected party did not properly respond after a period of time, or established connection failed because connected host has failed to respond>\n",
      "<urlopen error [WinError 10060] A connection attempt failed because the connected party did not properly respond after a period of time, or established connection failed because connected host has failed to respond>\n",
      "<urlopen error [WinError 10060] A connection attempt failed because the connected party did not properly respond after a period of time, or established connection failed because connected host has failed to respond>\n",
      "<urlopen error [WinError 10060] A connection attempt failed because the connected party did not properly respond after a period of time, or established connection failed because connected host has failed to respond>\n",
      "<urlopen error [WinError 10060] A connection attempt failed because the connected party did not properly respond after a period of time, or established connection failed because connected host has failed to respond>\n",
      "<urlopen error [WinError 10060] A connection attempt failed because the connected party did not properly respond after a period of time, or established connection failed because connected host has failed to respond>\n",
      "<urlopen error [WinError 10060] A connection attempt failed because the connected party did not properly respond after a period of time, or established connection failed because connected host has failed to respond>\n",
      "<urlopen error [WinError 10060] A connection attempt failed because the connected party did not properly respond after a period of time, or established connection failed because connected host has failed to respond>\n",
      "<urlopen error [WinError 10060] A connection attempt failed because the connected party did not properly respond after a period of time, or established connection failed because connected host has failed to respond>\n"
     ]
    },
    {
     "name": "stdout",
     "output_type": "stream",
     "text": [
      "<urlopen error [WinError 10060] A connection attempt failed because the connected party did not properly respond after a period of time, or established connection failed because connected host has failed to respond>\n",
      "<urlopen error [WinError 10060] A connection attempt failed because the connected party did not properly respond after a period of time, or established connection failed because connected host has failed to respond>\n",
      "<urlopen error [WinError 10060] A connection attempt failed because the connected party did not properly respond after a period of time, or established connection failed because connected host has failed to respond>\n",
      "<urlopen error [WinError 10060] A connection attempt failed because the connected party did not properly respond after a period of time, or established connection failed because connected host has failed to respond>\n",
      "<urlopen error [WinError 10060] A connection attempt failed because the connected party did not properly respond after a period of time, or established connection failed because connected host has failed to respond>\n",
      "<urlopen error [WinError 10060] A connection attempt failed because the connected party did not properly respond after a period of time, or established connection failed because connected host has failed to respond>\n",
      "<urlopen error [WinError 10060] A connection attempt failed because the connected party did not properly respond after a period of time, or established connection failed because connected host has failed to respond>\n",
      "<urlopen error [WinError 10060] A connection attempt failed because the connected party did not properly respond after a period of time, or established connection failed because connected host has failed to respond>\n",
      "<urlopen error [WinError 10060] A connection attempt failed because the connected party did not properly respond after a period of time, or established connection failed because connected host has failed to respond>\n",
      "<urlopen error [WinError 10060] A connection attempt failed because the connected party did not properly respond after a period of time, or established connection failed because connected host has failed to respond>\n",
      "<urlopen error [WinError 10060] A connection attempt failed because the connected party did not properly respond after a period of time, or established connection failed because connected host has failed to respond>\n",
      "<urlopen error [WinError 10060] A connection attempt failed because the connected party did not properly respond after a period of time, or established connection failed because connected host has failed to respond>\n",
      "<urlopen error [WinError 10060] A connection attempt failed because the connected party did not properly respond after a period of time, or established connection failed because connected host has failed to respond>\n",
      "<urlopen error [WinError 10060] A connection attempt failed because the connected party did not properly respond after a period of time, or established connection failed because connected host has failed to respond>\n",
      "<urlopen error [WinError 10060] A connection attempt failed because the connected party did not properly respond after a period of time, or established connection failed because connected host has failed to respond>\n",
      "<urlopen error [WinError 10060] A connection attempt failed because the connected party did not properly respond after a period of time, or established connection failed because connected host has failed to respond>\n",
      "<urlopen error [WinError 10060] A connection attempt failed because the connected party did not properly respond after a period of time, or established connection failed because connected host has failed to respond>\n",
      "<urlopen error [WinError 10060] A connection attempt failed because the connected party did not properly respond after a period of time, or established connection failed because connected host has failed to respond>\n",
      "<urlopen error [WinError 10060] A connection attempt failed because the connected party did not properly respond after a period of time, or established connection failed because connected host has failed to respond>\n",
      "<urlopen error [WinError 10060] A connection attempt failed because the connected party did not properly respond after a period of time, or established connection failed because connected host has failed to respond>\n",
      "<urlopen error [WinError 10060] A connection attempt failed because the connected party did not properly respond after a period of time, or established connection failed because connected host has failed to respond>\n",
      "<urlopen error [WinError 10060] A connection attempt failed because the connected party did not properly respond after a period of time, or established connection failed because connected host has failed to respond>\n",
      "<urlopen error [WinError 10060] A connection attempt failed because the connected party did not properly respond after a period of time, or established connection failed because connected host has failed to respond>\n",
      "<urlopen error [WinError 10060] A connection attempt failed because the connected party did not properly respond after a period of time, or established connection failed because connected host has failed to respond>\n",
      "<urlopen error [WinError 10060] A connection attempt failed because the connected party did not properly respond after a period of time, or established connection failed because connected host has failed to respond>\n",
      "<urlopen error [WinError 10060] A connection attempt failed because the connected party did not properly respond after a period of time, or established connection failed because connected host has failed to respond>\n",
      "<urlopen error [WinError 10060] A connection attempt failed because the connected party did not properly respond after a period of time, or established connection failed because connected host has failed to respond>\n",
      "<urlopen error [WinError 10060] A connection attempt failed because the connected party did not properly respond after a period of time, or established connection failed because connected host has failed to respond>\n",
      "<urlopen error [WinError 10060] A connection attempt failed because the connected party did not properly respond after a period of time, or established connection failed because connected host has failed to respond>\n",
      "<urlopen error [WinError 10060] A connection attempt failed because the connected party did not properly respond after a period of time, or established connection failed because connected host has failed to respond>\n",
      "<urlopen error [WinError 10060] A connection attempt failed because the connected party did not properly respond after a period of time, or established connection failed because connected host has failed to respond>\n",
      "<urlopen error [WinError 10060] A connection attempt failed because the connected party did not properly respond after a period of time, or established connection failed because connected host has failed to respond>\n"
     ]
    }
   ],
   "source": [
    "x_ls, y_ls, z_ls, f_ls = [],[],[],[]\n",
    "\n",
    "# download tile for each point\n",
    "aoi_name = 'uganda_test_districts'\n",
    "aoi_folder = f'pngs_{aoi_name}_all_512_zm17'\n",
    "\n",
    "if not os.path.exists(aoi_folder):\n",
    "    os.makedirs(aoi_folder)\n",
    "    \n",
    "for row in aoi_poly_df_4326.iterrows():\n",
    "    # specify a point from the geodataframe of accepted stages\n",
    "    # get a tile coordiante for lon lat  (get from GDF)\n",
    "    #pt_index=50\n",
    "    #lon = rwanda_pts_NR.geometry[pt_index].x\n",
    "    #lat = rwanda_pts_NR.geometry[pt_index].y\n",
    "    \n",
    "    try:\n",
    "        rc = 512\n",
    "\n",
    "        lon = row[1]['geometry'].centroid.x\n",
    "        lat = row[1]['geometry'].centroid.y\n",
    "        zm = 17 # ~1.2m\n",
    "\n",
    "        t_url = f'https://dev.virtualearth.net/REST/v1/Imagery/Map/Aerial/{lat},{lon}/{zm}?&format=png&mapSize={rc},{rc}&key=Apj6VafMa1ng5CQZKVkTBAGEN8pbGtCJcgB4h2T7VtKVZQrbxqe6orSfUuJ2jXjN' \n",
    "\n",
    "        tile_mapping = mercantile.tile(lon, lat, zm)\n",
    "\n",
    "        z=tile_mapping.z\n",
    "        x=tile_mapping.x\n",
    "        y=tile_mapping.y\n",
    "        im_path = os.path.join(aoi_folder, f'aoi_{aoi_name}_bing_{x}_{y}_{z}.png')\n",
    "        urllib.request.urlretrieve(t_url, im_path)\n",
    "\n",
    "        x_ls.append(x)\n",
    "        y_ls.append(y)\n",
    "        z_ls.append(z)\n",
    "        f_ls.append(im_path)\n",
    "        \n",
    "    except Exception as e:\n",
    "        print(e)\n",
    "        x_ls.append(None)\n",
    "        y_ls.append(None)\n",
    "        z_ls.append(None)\n",
    "        f_ls.append(None)\n",
    "        \n"
   ]
  },
  {
   "cell_type": "code",
   "execution_count": 46,
   "metadata": {},
   "outputs": [
    {
     "name": "stderr",
     "output_type": "stream",
     "text": [
      "C:\\software\\anaconda3\\envs\\gbdx017\\lib\\site-packages\\ipykernel_launcher.py:1: SettingWithCopyWarning: \n",
      "A value is trying to be set on a copy of a slice from a DataFrame.\n",
      "Try using .loc[row_indexer,col_indexer] = value instead\n",
      "\n",
      "See the caveats in the documentation: https://pandas.pydata.org/pandas-docs/stable/user_guide/indexing.html#returning-a-view-versus-a-copy\n",
      "  \"\"\"Entry point for launching an IPython kernel.\n",
      "C:\\software\\anaconda3\\envs\\gbdx017\\lib\\site-packages\\ipykernel_launcher.py:2: SettingWithCopyWarning: \n",
      "A value is trying to be set on a copy of a slice from a DataFrame.\n",
      "Try using .loc[row_indexer,col_indexer] = value instead\n",
      "\n",
      "See the caveats in the documentation: https://pandas.pydata.org/pandas-docs/stable/user_guide/indexing.html#returning-a-view-versus-a-copy\n",
      "  \n",
      "C:\\software\\anaconda3\\envs\\gbdx017\\lib\\site-packages\\ipykernel_launcher.py:3: SettingWithCopyWarning: \n",
      "A value is trying to be set on a copy of a slice from a DataFrame.\n",
      "Try using .loc[row_indexer,col_indexer] = value instead\n",
      "\n",
      "See the caveats in the documentation: https://pandas.pydata.org/pandas-docs/stable/user_guide/indexing.html#returning-a-view-versus-a-copy\n",
      "  This is separate from the ipykernel package so we can avoid doing imports until\n",
      "C:\\software\\anaconda3\\envs\\gbdx017\\lib\\site-packages\\ipykernel_launcher.py:4: SettingWithCopyWarning: \n",
      "A value is trying to be set on a copy of a slice from a DataFrame.\n",
      "Try using .loc[row_indexer,col_indexer] = value instead\n",
      "\n",
      "See the caveats in the documentation: https://pandas.pydata.org/pandas-docs/stable/user_guide/indexing.html#returning-a-view-versus-a-copy\n",
      "  after removing the cwd from sys.path.\n",
      "C:\\software\\anaconda3\\envs\\gbdx017\\lib\\site-packages\\ipykernel_launcher.py:5: SettingWithCopyWarning: \n",
      "A value is trying to be set on a copy of a slice from a DataFrame.\n",
      "Try using .loc[row_indexer,col_indexer] = value instead\n",
      "\n",
      "See the caveats in the documentation: https://pandas.pydata.org/pandas-docs/stable/user_guide/indexing.html#returning-a-view-versus-a-copy\n",
      "  \"\"\"\n"
     ]
    }
   ],
   "source": [
    "aoi_poly_df_4326['tile_x'] = x_ls\n",
    "aoi_poly_df_4326['tile_y'] = y_ls\n",
    "aoi_poly_df_4326['tile_z'] = z_ls\n",
    "aoi_poly_df_4326['filename'] = f_ls\n",
    "aoi_poly_df_4326['filename_base'] = [os.path.basename(f) if f is not None else None for f in f_ls]"
   ]
  },
  {
   "cell_type": "code",
   "execution_count": 47,
   "metadata": {},
   "outputs": [
    {
     "data": {
      "text/html": [
       "<div>\n",
       "<style scoped>\n",
       "    .dataframe tbody tr th:only-of-type {\n",
       "        vertical-align: middle;\n",
       "    }\n",
       "\n",
       "    .dataframe tbody tr th {\n",
       "        vertical-align: top;\n",
       "    }\n",
       "\n",
       "    .dataframe thead th {\n",
       "        text-align: right;\n",
       "    }\n",
       "</style>\n",
       "<table border=\"1\" class=\"dataframe\">\n",
       "  <thead>\n",
       "    <tr style=\"text-align: right;\">\n",
       "      <th></th>\n",
       "      <th>geometry</th>\n",
       "      <th>tile_x</th>\n",
       "      <th>tile_y</th>\n",
       "      <th>tile_z</th>\n",
       "      <th>filename</th>\n",
       "      <th>filename_base</th>\n",
       "    </tr>\n",
       "  </thead>\n",
       "  <tbody>\n",
       "    <tr>\n",
       "      <th>214</th>\n",
       "      <td>POLYGON ((29.70154 -0.20325, 29.70154 -0.19775...</td>\n",
       "      <td>76349.0</td>\n",
       "      <td>65608.0</td>\n",
       "      <td>17.0</td>\n",
       "      <td>pngs_uganda_test_districts_all_512_zm17\\aoi_ug...</td>\n",
       "      <td>aoi_uganda_test_districts_bing_76349_65608_17.png</td>\n",
       "    </tr>\n",
       "    <tr>\n",
       "      <th>215</th>\n",
       "      <td>POLYGON ((29.70154 -0.20874, 29.70154 -0.20325...</td>\n",
       "      <td>76349.0</td>\n",
       "      <td>65610.0</td>\n",
       "      <td>17.0</td>\n",
       "      <td>pngs_uganda_test_districts_all_512_zm17\\aoi_ug...</td>\n",
       "      <td>aoi_uganda_test_districts_bing_76349_65610_17.png</td>\n",
       "    </tr>\n",
       "    <tr>\n",
       "      <th>216</th>\n",
       "      <td>POLYGON ((29.70154 -0.21423, 29.70154 -0.20874...</td>\n",
       "      <td>76349.0</td>\n",
       "      <td>65612.0</td>\n",
       "      <td>17.0</td>\n",
       "      <td>pngs_uganda_test_districts_all_512_zm17\\aoi_ug...</td>\n",
       "      <td>aoi_uganda_test_districts_bing_76349_65612_17.png</td>\n",
       "    </tr>\n",
       "    <tr>\n",
       "      <th>441</th>\n",
       "      <td>POLYGON ((29.70703 -0.18127, 29.70703 -0.17578...</td>\n",
       "      <td>76351.0</td>\n",
       "      <td>65600.0</td>\n",
       "      <td>17.0</td>\n",
       "      <td>pngs_uganda_test_districts_all_512_zm17\\aoi_ug...</td>\n",
       "      <td>aoi_uganda_test_districts_bing_76351_65600_17.png</td>\n",
       "    </tr>\n",
       "    <tr>\n",
       "      <th>442</th>\n",
       "      <td>POLYGON ((29.70703 -0.18677, 29.70703 -0.18127...</td>\n",
       "      <td>76351.0</td>\n",
       "      <td>65602.0</td>\n",
       "      <td>17.0</td>\n",
       "      <td>pngs_uganda_test_districts_all_512_zm17\\aoi_ug...</td>\n",
       "      <td>aoi_uganda_test_districts_bing_76351_65602_17.png</td>\n",
       "    </tr>\n",
       "  </tbody>\n",
       "</table>\n",
       "</div>"
      ],
      "text/plain": [
       "                                              geometry   tile_x   tile_y  \\\n",
       "214  POLYGON ((29.70154 -0.20325, 29.70154 -0.19775...  76349.0  65608.0   \n",
       "215  POLYGON ((29.70154 -0.20874, 29.70154 -0.20325...  76349.0  65610.0   \n",
       "216  POLYGON ((29.70154 -0.21423, 29.70154 -0.20874...  76349.0  65612.0   \n",
       "441  POLYGON ((29.70703 -0.18127, 29.70703 -0.17578...  76351.0  65600.0   \n",
       "442  POLYGON ((29.70703 -0.18677, 29.70703 -0.18127...  76351.0  65602.0   \n",
       "\n",
       "     tile_z                                           filename  \\\n",
       "214    17.0  pngs_uganda_test_districts_all_512_zm17\\aoi_ug...   \n",
       "215    17.0  pngs_uganda_test_districts_all_512_zm17\\aoi_ug...   \n",
       "216    17.0  pngs_uganda_test_districts_all_512_zm17\\aoi_ug...   \n",
       "441    17.0  pngs_uganda_test_districts_all_512_zm17\\aoi_ug...   \n",
       "442    17.0  pngs_uganda_test_districts_all_512_zm17\\aoi_ug...   \n",
       "\n",
       "                                         filename_base  \n",
       "214  aoi_uganda_test_districts_bing_76349_65608_17.png  \n",
       "215  aoi_uganda_test_districts_bing_76349_65610_17.png  \n",
       "216  aoi_uganda_test_districts_bing_76349_65612_17.png  \n",
       "441  aoi_uganda_test_districts_bing_76351_65600_17.png  \n",
       "442  aoi_uganda_test_districts_bing_76351_65602_17.png  "
      ]
     },
     "execution_count": 47,
     "metadata": {},
     "output_type": "execute_result"
    }
   ],
   "source": [
    "aoi_poly_df_4326.head()"
   ]
  },
  {
   "cell_type": "code",
   "execution_count": 48,
   "metadata": {},
   "outputs": [],
   "source": [
    "aoi_poly_df_4326.to_file('uganda_test_tiles.geojson', driver='GeoJSON')"
   ]
  },
  {
   "cell_type": "code",
   "execution_count": 18,
   "metadata": {},
   "outputs": [],
   "source": [
    "bing_df = pd.DataFrame({'tile_x':x_ls,\n",
    "                        'tile_y': y_ls,\n",
    "                       'tile_z': z_ls,\n",
    "                       'filename': f_ls})"
   ]
  },
  {
   "cell_type": "code",
   "execution_count": 19,
   "metadata": {},
   "outputs": [
    {
     "data": {
      "text/plain": [
       "(987,)"
      ]
     },
     "execution_count": 19,
     "metadata": {},
     "output_type": "execute_result"
    }
   ],
   "source": [
    "bing_df['filename'].unique().shape"
   ]
  },
  {
   "cell_type": "markdown",
   "metadata": {},
   "source": [
    "Write data frames to csv"
   ]
  },
  {
   "cell_type": "code",
   "execution_count": 20,
   "metadata": {},
   "outputs": [],
   "source": [
    "bing_df.to_csv('png_bing_256_no.csv')\n"
   ]
  },
  {
   "cell_type": "code",
   "execution_count": null,
   "metadata": {},
   "outputs": [],
   "source": []
  }
 ],
 "metadata": {
  "kernelspec": {
   "display_name": "Python (gbdx017)",
   "language": "python",
   "name": "gbdx017"
  },
  "language_info": {
   "codemirror_mode": {
    "name": "ipython",
    "version": 3
   },
   "file_extension": ".py",
   "mimetype": "text/x-python",
   "name": "python",
   "nbconvert_exporter": "python",
   "pygments_lexer": "ipython3",
   "version": "3.6.7"
  }
 },
 "nbformat": 4,
 "nbformat_minor": 2
}
