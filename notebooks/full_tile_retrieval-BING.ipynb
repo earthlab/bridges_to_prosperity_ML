{
 "cells": [
  {
   "cell_type": "code",
   "execution_count": 1,
   "metadata": {},
   "outputs": [],
   "source": [
    "import geopandas as gpd\n",
    "import os\n",
    "from pprint import pprint\n",
    "import numpy as np\n",
    "from matplotlib import pyplot as plt\n",
    "import rasterio as rio\n",
    "\n",
    "# Import helper modules\n",
    "import json\n",
    "import mercantile\n",
    "import requests\n",
    "import urllib\n",
    "import pandas as pd\n",
    "\n",
    "from pl_b2p import *"
   ]
  },
  {
   "cell_type": "code",
   "execution_count": 2,
   "metadata": {},
   "outputs": [
    {
     "name": "stdout",
     "output_type": "stream",
     "text": [
      "['Rejected' 'Complete' 'Identified' 'Confirmed' 'Under Construction'\n",
      " 'Prospecting']\n"
     ]
    },
    {
     "data": {
      "text/plain": [
       "((57, 21), (1521, 20))"
      ]
     },
     "execution_count": 2,
     "metadata": {},
     "output_type": "execute_result"
    }
   ],
   "source": [
    "# load the shapefile\n",
    "rwanda_pts = gpd.read_file('../../rwanda/B2P_Rwanda_bridge_sites_2019_05_08.shp')\n",
    "rwanda_pts.head()\n",
    "print(rwanda_pts.Stage.unique())\n",
    "\n",
    "rwanda_pts_NR = rwanda_pts[~rwanda_pts.Stage.isin(['Rejected', 'Identified'])].reset_index()\n",
    "rwanda_pts_NR.shape, rwanda_pts.shape"
   ]
  },
  {
   "cell_type": "code",
   "execution_count": 3,
   "metadata": {},
   "outputs": [],
   "source": [
    "rwanda_pts = gpd.read_file('../../rwanda/rwanda_no_pts_1000_minus_lakes.shp')"
   ]
  },
  {
   "cell_type": "markdown",
   "metadata": {},
   "source": [
    "Get all of 'em"
   ]
  },
  {
   "cell_type": "code",
   "execution_count": 4,
   "metadata": {},
   "outputs": [],
   "source": [
    "rwanda_poly = gpd.read_file(r\"D:\\projects\\bridges_to_prosperity\\Fwd__B2P_and_Earth_Lab_areas_of_interest\\rwanda_aoi_big.geojson\")\n",
    "rwanda_poly = gpd.read_file(r\"D:\\projects\\bridges_to_prosperity\\Fwd__B2P_and_Earth_Lab_areas_of_interest\\morija.geojson\")\n",
    "rwanda_bounds = list(rwanda_poly.bounds.values[0])\n",
    "zm = 17 # for the bing images, SINCE WE CAN!\n",
    "all_tiles_rwanda = list(mercantile.tiles(*rwanda_bounds, zooms=[17]))"
   ]
  },
  {
   "cell_type": "code",
   "execution_count": 5,
   "metadata": {},
   "outputs": [],
   "source": [
    "from math import degrees, atan, sinh\n",
    "import gdal\n",
    "\n",
    "def x_to_lon_edges(x, z):\n",
    "    tile_count = pow(2, z)\n",
    "    unit = 360 / tile_count\n",
    "    lon1 = -180 + x * unit\n",
    "    lon2 = lon1 + unit\n",
    "    return(lon1, lon2)\n",
    "\n",
    "def mercatorToLat(mercatorY):\n",
    "    return(degrees(atan(sinh(mercatorY))))\n",
    "\n",
    "\n",
    "def y_to_lat_edges(y, z):\n",
    "    tile_count = pow(2, z)\n",
    "    unit = 1 / tile_count\n",
    "    relative_y1 = y * unit\n",
    "    relative_y2 = relative_y1 + unit\n",
    "    lat1 = mercatorToLat(np.pi * (1 - 2 * relative_y1))\n",
    "    lat2 = mercatorToLat(np.pi * (1 - 2 * relative_y2))\n",
    "    return(lat1, lat2)\n",
    "\n",
    "def tile_edges(x, y, z):\n",
    "    lat1, lat2 = y_to_lat_edges(y, z)\n",
    "    lon1, lon2 = x_to_lon_edges(x, z)\n",
    "    return[lon1, lat1, lon2, lat2]\n",
    "\n",
    "def georeference_raster_tile(x, y, z, path):\n",
    "    bounds = tile_edges(x, y, z)\n",
    "    filename, extension = os.path.splitext(path)\n",
    "    gdal.Translate(filename + '.tif',\n",
    "                   path,\n",
    "                   outputSRS='EPSG:4326',\n",
    "                   outputBounds=bounds)"
   ]
  },
  {
   "cell_type": "code",
   "execution_count": 12,
   "metadata": {},
   "outputs": [
    {
     "data": {
      "text/plain": [
       "LngLat(lng=27.47955322265625, lat=-29.611670115197384)"
      ]
     },
     "execution_count": 12,
     "metadata": {},
     "output_type": "execute_result"
    }
   ],
   "source": [
    "_t = all_tiles_rwanda[0]\n",
    "mercantile.ul(_t.x, _t.y, _t.z)"
   ]
  },
  {
   "cell_type": "code",
   "execution_count": 15,
   "metadata": {
    "scrolled": true
   },
   "outputs": [
    {
     "name": "stdout",
     "output_type": "stream",
     "text": [
      "on 1 of 18\n",
      "on 2 of 18\n",
      "on 3 of 18\n",
      "on 4 of 18\n",
      "on 5 of 18\n",
      "on 6 of 18\n",
      "on 7 of 18\n",
      "on 8 of 18\n",
      "on 9 of 18\n",
      "on 10 of 18\n",
      "on 11 of 18\n",
      "on 12 of 18\n",
      "on 13 of 18\n",
      "on 14 of 18\n",
      "on 15 of 18\n",
      "on 16 of 18\n",
      "on 17 of 18\n",
      "on 18 of 18\n"
     ]
    }
   ],
   "source": [
    "# all_tiles_rwanda[0]\n",
    "xp_ls, yp_ls, zp_ls, fp_ls = [],[],[],[]\n",
    "fi_dir = 'morija_all_pngs_planet_256_2018'\n",
    "os.makedirs(fi_dir, exist_ok=True)\n",
    "for i, t in enumerate(all_tiles_rwanda):\n",
    "    \n",
    "    try:\n",
    "        z = t.z\n",
    "        x = t.x\n",
    "        y = t.y\n",
    "        t_url = f'https://tiles.planet.com/basemaps/v1/planet-tiles/{mosaic_name}/gmap/{z}/{x}/{y}.png?api_key={PLANET_API_KEY}'\n",
    "\n",
    "        im_path = f'{fi_dir}/{x}_{y}_{z}.png'\n",
    "        \n",
    "        # skip if existing\n",
    "        if os.path.exists(im_path):\n",
    "            continue\n",
    "        \n",
    "        print(f'on {i+1} of {len(all_tiles_rwanda)}')\n",
    "            \n",
    "        urllib.request.urlretrieve(t_url, im_path)\n",
    "        \n",
    "        # georeference file\n",
    "        georeference_raster_tile(x, y, z, im_path)\n",
    "\n",
    "        xp_ls.append(x)\n",
    "        yp_ls.append(y)\n",
    "        zp_ls.append(z)\n",
    "        fp_ls.append(im_path)\n",
    "        \n",
    "    except Exception as e:\n",
    "        print(e)\n",
    "        xp_ls.append(np.nan)\n",
    "        yp_ls.append(np.nan)\n",
    "        zp_ls.append(np.nan)\n",
    "        fp_ls.append(np.nan)\n",
    "        \n",
    "    try:\n",
    "        rc = 512\n",
    "\n",
    "        lon = row[1]['geometry'].x\n",
    "        lat = row[1]['geometry'].y\n",
    "        zm = 17 # ~1.2m\n",
    "\n",
    "        tile_mapping = mercantile.tile(lon, lat, zm)\n",
    "\n",
    "        z=tile_mapping.z\n",
    "        x=tile_mapping.x\n",
    "        y=tile_mapping.y\n",
    "        t_url = f'https://dev.virtualearth.net/REST/v1/Imagery/Map/Aerial/{lat},{lon}/{zm}?&format=png&mapSize={rc},{rc}&key=AgvMyZ32gp8jGrrVIN4I8tXRhfx3jmZKo0jgUaA9b1LHcq_yyGkmvGPS1nUXmzvs' \n",
    "\n",
    "        im_path = f'pngs_bing_256_no/rwanda_bing_{x}_{y}_{z}.png'\n",
    "        urllib.request.urlretrieve(t_url, im_path)\n",
    "\n",
    "        x_ls.append(x)\n",
    "        y_ls.append(y)\n",
    "        z_ls.append(z)\n",
    "        f_ls.append(im_path)\n",
    "        \n",
    "    except Exception as e:\n",
    "        print(e)\n",
    "        x_ls.append(np.nan)\n",
    "        y_ls.append(np.nan)\n",
    "        z_ls.append(np.nan)\n",
    "        f_ls.append(np.nan)\n",
    "        "
   ]
  },
  {
   "cell_type": "code",
   "execution_count": 13,
   "metadata": {},
   "outputs": [
    {
     "name": "stdout",
     "output_type": "stream",
     "text": [
      "finished\n"
     ]
    }
   ],
   "source": [
    "print('finished')"
   ]
  },
  {
   "cell_type": "code",
   "execution_count": null,
   "metadata": {},
   "outputs": [],
   "source": []
  },
  {
   "cell_type": "code",
   "execution_count": null,
   "metadata": {},
   "outputs": [],
   "source": []
  },
  {
   "cell_type": "code",
   "execution_count": null,
   "metadata": {},
   "outputs": [],
   "source": []
  },
  {
   "cell_type": "code",
   "execution_count": null,
   "metadata": {},
   "outputs": [],
   "source": []
  },
  {
   "cell_type": "code",
   "execution_count": null,
   "metadata": {},
   "outputs": [],
   "source": []
  },
  {
   "cell_type": "code",
   "execution_count": 10,
   "metadata": {},
   "outputs": [],
   "source": [
    "xp_ls, yp_ls, zp_ls, fp_ls = [],[],[],[]\n",
    "\n",
    "for row in rwanda_pts.iterrows():\n",
    "    # specify a point from the geodataframe of accepted stages\n",
    "    # get a tile coordiante for lon lat  (get from GDF)\n",
    "    #pt_index=50\n",
    "    #lon = rwanda_pts_NR.geometry[pt_index].x\n",
    "    #lat = rwanda_pts_NR.geometry[pt_index].y\n",
    "    \n",
    "    try:\n",
    "        lon = row[1]['geometry'].x\n",
    "        lat = row[1]['geometry'].y\n",
    "        zm = 15\n",
    "        tile_mapping = mercantile.tile(lon, lat, zm)\n",
    "\n",
    "        z=tile_mapping.z\n",
    "        x=tile_mapping.x\n",
    "        y=tile_mapping.y\n",
    "        t_url = f'https://tiles.planet.com/basemaps/v1/planet-tiles/{mosaic_name}/gmap/{z}/{x}/{y}.png?api_key={PLANET_API_KEY}'\n",
    "\n",
    "        im_path = f'pngs_planet_256_2018_no/{x}_{y}_{z}.png'\n",
    "        \n",
    "        # skip if existing\n",
    "        if os.path.exists(im_path):\n",
    "            continue\n",
    "            \n",
    "        urllib.request.urlretrieve(t_url, im_path)\n",
    "\n",
    "        xp_ls.append(x)\n",
    "        yp_ls.append(y)\n",
    "        zp_ls.append(z)\n",
    "        fp_ls.append(im_path)\n",
    "        \n",
    "    except Exception as e:\n",
    "        print(e)\n",
    "        xp_ls.append(np.nan)\n",
    "        yp_ls.append(np.nan)\n",
    "        zp_ls.append(np.nan)\n",
    "        fp_ls.append(np.nan)\n",
    "    \n",
    "\n",
    "    "
   ]
  },
  {
   "cell_type": "code",
   "execution_count": 11,
   "metadata": {},
   "outputs": [],
   "source": [
    "planet_df = pd.DataFrame({'tile_x':xp_ls,\n",
    "                        'tile_y': yp_ls,\n",
    "                       'tile_z': zp_ls,\n",
    "                       'filename': fp_ls})"
   ]
  },
  {
   "cell_type": "code",
   "execution_count": 12,
   "metadata": {},
   "outputs": [
    {
     "data": {
      "text/plain": [
       "(907,)"
      ]
     },
     "execution_count": 12,
     "metadata": {},
     "output_type": "execute_result"
    }
   ],
   "source": [
    "planet_df['filename'].unique().shape"
   ]
  },
  {
   "cell_type": "code",
   "execution_count": 13,
   "metadata": {},
   "outputs": [],
   "source": [
    "planet_df.to_csv('png_planet_256_2018_no.csv')"
   ]
  },
  {
   "cell_type": "code",
   "execution_count": 28,
   "metadata": {},
   "outputs": [
    {
     "name": "stdout",
     "output_type": "stream",
     "text": [
      "cannot convert float NaN to integer\n",
      "cannot convert float NaN to integer\n",
      "cannot convert float NaN to integer\n",
      "cannot convert float NaN to integer\n",
      "cannot convert float NaN to integer\n",
      "cannot convert float NaN to integer\n",
      "cannot convert float NaN to integer\n",
      "cannot convert float NaN to integer\n",
      "cannot convert float NaN to integer\n",
      "cannot convert float NaN to integer\n",
      "cannot convert float NaN to integer\n",
      "cannot convert float NaN to integer\n",
      "cannot convert float NaN to integer\n",
      "cannot convert float NaN to integer\n"
     ]
    }
   ],
   "source": [
    "xp_ls, yp_ls, zp_ls, fp_ls = [],[],[],[]\n",
    "\n",
    "# generate dataframe from \n",
    "for row in rwanda_pts.iterrows():\n",
    "    \n",
    "    try:\n",
    "        lon = row[1]['geometry'].x\n",
    "        lat = row[1]['geometry'].y\n",
    "        zm = 15\n",
    "        tile_mapping = mercantile.tile(lon, lat, zm)\n",
    "\n",
    "        z=tile_mapping.z\n",
    "        x=tile_mapping.x\n",
    "        y=tile_mapping.y\n",
    "        t_url = f'https://tiles.planet.com/basemaps/v1/planet-tiles/{mosaic_name}/gmap/{z}/{x}/{y}.png?api_key={PLANET_API_KEY}'\n",
    "\n",
    "        im_path = f'pngs_planet_256/{x}_{y}_{z}.png'\n",
    "                    \n",
    "        #urllib.request.urlretrieve(t_url, im_path)\n",
    "\n",
    "        xp_ls.append(x)\n",
    "        yp_ls.append(y)\n",
    "        zp_ls.append(z)\n",
    "        fp_ls.append(im_path)\n",
    "        \n",
    "    except Exception as e:\n",
    "        print(e)\n",
    "        xp_ls.append(np.nan)\n",
    "        yp_ls.append(np.nan)\n",
    "        zp_ls.append(np.nan)\n",
    "        fp_ls.append(np.nan)"
   ]
  },
  {
   "cell_type": "code",
   "execution_count": 16,
   "metadata": {},
   "outputs": [],
   "source": [
    "planet_df = pd.DataFrame({'tile_x':xp_ls,\n",
    "                        'tile_y': yp_ls,\n",
    "                       'tile_z': zp_ls,\n",
    "                       'filename': fp_ls})"
   ]
  },
  {
   "cell_type": "code",
   "execution_count": 17,
   "metadata": {},
   "outputs": [
    {
     "data": {
      "text/plain": [
       "(1253,)"
      ]
     },
     "execution_count": 17,
     "metadata": {},
     "output_type": "execute_result"
    }
   ],
   "source": [
    "planet_df['filename'].unique().shape\n",
    "planet_df.to_csv('png_planet_256_2018.csv')"
   ]
  },
  {
   "cell_type": "markdown",
   "metadata": {},
   "source": [
    "# run for bing maps"
   ]
  },
  {
   "cell_type": "code",
   "execution_count": 14,
   "metadata": {},
   "outputs": [],
   "source": [
    "from shapely.affinity import translate\n",
    "from functools import partial\n",
    "\n",
    "def add_coord_noise(df, maxdist=10):\n",
    "    \n",
    "    # add some spatial noise within specified limit\n",
    "    x_shift = np.random.randn()*maxdist\n",
    "    y_shift = np.random.randn()*maxdist\n",
    "    \n",
    "    # project the data and reproject back\n",
    "    df = df.to_crs(epsg=3857)\n",
    "    mapfunc = partial(translate, xoff=x_shift, yoff=y_shift)\n",
    "    df['geometry'] = list(map(mapfunc, df['geometry']))\n",
    "    df = df.to_crs(epsg=4326)\n",
    "    \n",
    "    return df"
   ]
  },
  {
   "cell_type": "code",
   "execution_count": 17,
   "metadata": {},
   "outputs": [
    {
     "name": "stdout",
     "output_type": "stream",
     "text": [
      "<urlopen error [WinError 10060] A connection attempt failed because the connected party did not properly respond after a period of time, or established connection failed because connected host has failed to respond>\n",
      "<urlopen error [WinError 10060] A connection attempt failed because the connected party did not properly respond after a period of time, or established connection failed because connected host has failed to respond>\n",
      "<urlopen error [WinError 10060] A connection attempt failed because the connected party did not properly respond after a period of time, or established connection failed because connected host has failed to respond>\n",
      "<urlopen error [WinError 10060] A connection attempt failed because the connected party did not properly respond after a period of time, or established connection failed because connected host has failed to respond>\n",
      "<urlopen error [WinError 10060] A connection attempt failed because the connected party did not properly respond after a period of time, or established connection failed because connected host has failed to respond>\n",
      "<urlopen error [WinError 10060] A connection attempt failed because the connected party did not properly respond after a period of time, or established connection failed because connected host has failed to respond>\n",
      "<urlopen error [WinError 10060] A connection attempt failed because the connected party did not properly respond after a period of time, or established connection failed because connected host has failed to respond>\n"
     ]
    }
   ],
   "source": [
    "x_ls, y_ls, z_ls, f_ls = [],[],[],[]\n",
    "\n",
    "# add spatial noise to each point, e.g., 10 meters\n",
    "#rwanda_pts_coordnoise = add_coord_noise(rwanda_pts, 10)\n",
    "rwanda_pts_coordnoise = rwanda_pts\n",
    "\n",
    "# download tile for each point\n",
    "for row in rwanda_pts_coordnoise.iterrows():\n",
    "    # specify a point from the geodataframe of accepted stages\n",
    "    # get a tile coordiante for lon lat  (get from GDF)\n",
    "    #pt_index=50\n",
    "    #lon = rwanda_pts_NR.geometry[pt_index].x\n",
    "    #lat = rwanda_pts_NR.geometry[pt_index].y\n",
    "    \n",
    "    try:\n",
    "        rc = 512\n",
    "\n",
    "        lon = row[1]['geometry'].x\n",
    "        lat = row[1]['geometry'].y\n",
    "        zm = 17 # ~1.2m\n",
    "\n",
    "        tile_mapping = mercantile.tile(lon, lat, zm)\n",
    "\n",
    "        z=tile_mapping.z\n",
    "        x=tile_mapping.x\n",
    "        y=tile_mapping.y\n",
    "        t_url = f'https://tiles.planet.com/basemaps/v1/planet-tiles/{mosaic_name}/gmap/{z}/{x}/{y}.png?api_key={PLANET_API_KEY}'\n",
    "        t_url = f'https://dev.virtualearth.net/REST/v1/Imagery/Map/Aerial/{lat},{lon}/{zm}?&format=png&mapSize={rc},{rc}&key=AgvMyZ32gp8jGrrVIN4I8tXRhfx3jmZKo0jgUaA9b1LHcq_yyGkmvGPS1nUXmzvs' \n",
    "\n",
    "        im_path = f'pngs_bing_256_no/rwanda_bing_{x}_{y}_{z}.png'\n",
    "        urllib.request.urlretrieve(t_url, im_path)\n",
    "\n",
    "        x_ls.append(x)\n",
    "        y_ls.append(y)\n",
    "        z_ls.append(z)\n",
    "        f_ls.append(im_path)\n",
    "        \n",
    "    except Exception as e:\n",
    "        print(e)\n",
    "        x_ls.append(np.nan)\n",
    "        y_ls.append(np.nan)\n",
    "        z_ls.append(np.nan)\n",
    "        f_ls.append(np.nan)\n",
    "        \n"
   ]
  },
  {
   "cell_type": "code",
   "execution_count": 18,
   "metadata": {},
   "outputs": [],
   "source": [
    "bing_df = pd.DataFrame({'tile_x':x_ls,\n",
    "                        'tile_y': y_ls,\n",
    "                       'tile_z': z_ls,\n",
    "                       'filename': f_ls})"
   ]
  },
  {
   "cell_type": "code",
   "execution_count": 19,
   "metadata": {},
   "outputs": [
    {
     "data": {
      "text/plain": [
       "(987,)"
      ]
     },
     "execution_count": 19,
     "metadata": {},
     "output_type": "execute_result"
    }
   ],
   "source": [
    "bing_df['filename'].unique().shape"
   ]
  },
  {
   "cell_type": "markdown",
   "metadata": {},
   "source": [
    "Write data frames to csv"
   ]
  },
  {
   "cell_type": "code",
   "execution_count": 20,
   "metadata": {},
   "outputs": [],
   "source": [
    "bing_df.to_csv('png_bing_256_no.csv')\n"
   ]
  },
  {
   "cell_type": "code",
   "execution_count": null,
   "metadata": {},
   "outputs": [],
   "source": []
  }
 ],
 "metadata": {
  "kernelspec": {
   "display_name": "Python3 (eapy_gbdx)",
   "language": "python",
   "name": "eapy_gbdx"
  },
  "language_info": {
   "codemirror_mode": {
    "name": "ipython",
    "version": 3
   },
   "file_extension": ".py",
   "mimetype": "text/x-python",
   "name": "python",
   "nbconvert_exporter": "python",
   "pygments_lexer": "ipython3",
   "version": "3.6.7"
  }
 },
 "nbformat": 4,
 "nbformat_minor": 2
}
