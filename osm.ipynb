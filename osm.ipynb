{
 "cells": [
  {
   "cell_type": "code",
   "execution_count": null,
   "metadata": {},
   "outputs": [],
   "source": [
    "import sys, os\n",
    "sys.path.append(\"/b2p\")\n",
    "BASE_DIR = os.getcwd()"
   ]
  },
  {
   "cell_type": "code",
   "execution_count": 117,
   "metadata": {},
   "outputs": [],
   "source": [
    "import osmnx as ox\n",
    "import geopandas as gpd\n",
    "import rasterio\n",
    "from rasterio import features\n",
    "import shapely\n",
    "from src.utilities.coords import *\n",
    "from src.utilities.imaging import *\n",
    "from pyproj import CRS\n"
   ]
  },
  {
   "attachments": {},
   "cell_type": "markdown",
   "metadata": {},
   "source": [
    "## Tags\n",
    "I obtained the tags by looking through this [documentation](https://wiki.openstreetmap.org/wiki/Map_features)"
   ]
  },
  {
   "cell_type": "code",
   "execution_count": 95,
   "metadata": {},
   "outputs": [],
   "source": [
    "tags_water = {\n",
    "    'water': True,\n",
    "    'waterway': True\n",
    "}\n",
    "tags_roads = {\n",
    "    'Highway': True\n",
    "}\n",
    "tags_pop = {\n",
    "    'Place': True # subtypes are \n",
    "        # - Administratively declared places\n",
    "        # - Populated settlements, urban\n",
    "        # - Populated settlements, urban and rural\n",
    "        # - Other places\n",
    "}\n",
    "tags_natural = {\n",
    "    'Natural': True # subtypes are \n",
    "        # - Administratively declared places\n",
    "        # - Populated settlements, urban\n",
    "        # - Populated settlements, urban and rural\n",
    "        # - Other places\n",
    "}"
   ]
  },
  {
   "attachments": {},
   "cell_type": "markdown",
   "metadata": {},
   "source": [
    "## Test rasterization\n",
    "The idea is to take a composite from S2 and then get corresponding water, roads, and population information  "
   ]
  },
  {
   "cell_type": "code",
   "execution_count": 98,
   "metadata": {},
   "outputs": [
    {
     "name": "stdout",
     "output_type": "stream",
     "text": [
      "-2.713837411553505 -3.7055145428311884 27.899639974853475 28.88900139325669\n"
     ]
    }
   ],
   "source": [
    "# Rwanda 35MPS \n",
    "s2_tiff = '/Users/user/Desktop/35MPS_multiband.tiff'\n",
    "out_tiff = '/Users/user/Desktop/35MPS_multivariate.tiff'\n",
    "(tl,tr,br,bl) = tiff_to_bbox(s2_tiff)\n",
    "bbox = [tl[0], br[0], tl[1], br[1]] # convert to (N,S,E,W)\n",
    "print(*bbox)"
   ]
  },
  {
   "cell_type": "code",
   "execution_count": 96,
   "metadata": {},
   "outputs": [],
   "source": [
    "water = ox.geometries.geometries_from_bbox(*bbox, tags_water)\n",
    "roads = ox.geometries.geometries_from_bbox(*bbox, tags_roads)\n",
    "pop = ox.geometries.geometries_from_bbox(*bbox, tags_pop)\n",
    "natural = ox.geometries.geometries_from_bbox(*bbox, tags_natural)"
   ]
  },
  {
   "cell_type": "code",
   "execution_count": 63,
   "metadata": {},
   "outputs": [],
   "source": [
    "def latLonToTiffTform(tiff):\n",
    "    src = gdal.Open(tiff)\n",
    "    # Setup the source projection - you can also import from epsg, proj4...\n",
    "    srcRef = osr.SpatialReference()\n",
    "    srcRef.ImportFromWkt(src.GetProjection())\n",
    "\n",
    "    # The target projection\n",
    "    tgtRef = osr.SpatialReference()\n",
    "    tgtRef.ImportFromEPSG(4326) # this code gives us lat, long\n",
    "\n",
    "    # Create the transform - this can be used repeatedly\n",
    "    return osr.CoordinateTransformation(tgtRef,srcRef)"
   ]
  },
  {
   "cell_type": "code",
   "execution_count": 138,
   "metadata": {},
   "outputs": [],
   "source": [
    "with rasterio.open(s2_tiff, 'r') as rst:\n",
    "    # copy and update the metadata from the input raster for the output\n",
    "    waterways = water.loc[:,['geometry', 'waterway']].dropna()\n",
    "    unique_vals = waterways.waterway.unique()\n",
    "    meta = rst.meta.copy()\n",
    "    d = meta['count']\n",
    "    meta.update(\n",
    "        compress='lzw',\n",
    "        count=d+1#len(unique_vals)\n",
    "    )\n",
    "    waterways = waterways.to_crs('epsg:32735')\n",
    "    # tform = latLonToTiffTform(s2_tiff)\n",
    "    with rasterio.open(out_tiff, 'w+', **meta) as out:\n",
    "        print('writing previous raster data to multivariate file... ')\n",
    "        for i in range(d): \n",
    "            out.write_band(i+1, rst.read(i+1))\n",
    "        print('getting list of polygons that define our water features ')\n",
    "        # this is where we create a generator of geom, value pairs to use in rasterizing\n",
    "        out_arr = out.read(d+1)\n",
    "        shapes = ((geom,1) for j,geom in enumerate(waterways['geometry']) )\n",
    "        # Now burn the features into the raster and write it out\n",
    "        print('writing water to raster ')\n",
    "        water_arr = features.rasterize(\n",
    "            shapes=shapes, \n",
    "            fill=0, \n",
    "            out=out_arr, \n",
    "            transform=out.transform #tform\n",
    "        )\n",
    "        assert (water_arr > 0).any(), 'Water array is empty'\n",
    "        out.write_band(d+1, water_arr)\n"
   ]
  },
  {
   "attachments": {},
   "cell_type": "markdown",
   "metadata": {},
   "source": [
    "## Test function definition"
   ]
  },
  {
   "cell_type": "code",
   "execution_count": null,
   "metadata": {},
   "outputs": [],
   "source": [
    "from src.osm import getOsm\n",
    "\n",
    "s2_tiff = '/Users/user/Desktop/35MPS_multiband.tiff'\n",
    "out_tiff = '/Users/user/Desktop/35MPS_multivariate_test.tiff'\n",
    "getOSM(s2_tiff, out_tiff)"
   ]
  }
 ],
 "metadata": {
  "kernelspec": {
   "display_name": "base",
   "language": "python",
   "name": "python3"
  },
  "language_info": {
   "codemirror_mode": {
    "name": "ipython",
    "version": 3
   },
   "file_extension": ".py",
   "mimetype": "text/x-python",
   "name": "python",
   "nbconvert_exporter": "python",
   "pygments_lexer": "ipython3",
   "version": "3.11.3"
  },
  "orig_nbformat": 4
 },
 "nbformat": 4,
 "nbformat_minor": 2
}
