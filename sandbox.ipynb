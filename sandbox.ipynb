{
 "cells": [
  {
   "cell_type": "code",
   "execution_count": 3,
   "id": "approximate-kingdom",
   "metadata": {
    "scrolled": true
   },
   "outputs": [],
   "source": [
    "import sys\n",
    "sys.path.append(\"/b2p\")"
   ]
  },
  {
   "cell_type": "code",
   "execution_count": null,
   "id": "conservative-milton",
   "metadata": {
    "scrolled": true
   },
   "outputs": [],
   "source": [
    "%matplotlib nbagg\n",
    "import matplotlib.pyplot as plt\n",
    "import os\n",
    "from glob import glob \n",
    "import rasterio\n",
    "from rasterio import features\n",
    "from rasterio.windows import Window\n",
    "import geopandas as gpd\n",
    "import numpy as np\n",
    "import copy\n",
    "from tqdm.notebook import tqdm \n",
    "import warnings\n",
    "# filter out RuntimeWarnings, due to geopandas/fiona read file spam\n",
    "# https://stackoverflow.com/questions/64995369/geopandas-warning-on-read-file\n",
    "warnings.filterwarnings(\"ignore\",category=RuntimeWarning)"
   ]
  },
  {
   "cell_type": "code",
   "execution_count": null,
   "id": "detailed-acrobat",
   "metadata": {
    "scrolled": true
   },
   "outputs": [],
   "source": [
    "from sklearn import preprocessing as p\n",
    "def plotNormalizedImg(data, ax):\n",
    "    min_max_scaler = p.MinMaxScaler()\n",
    "    normalizedData = min_max_scaler.fit_transform(data.astype(np.float64))*255\n",
    "\n",
    "    normalizedData = np.round(normalizedData).astype(np.uint8)\n",
    "    \n",
    "    ax.imshow(normalizedData)\n",
    "    plt.show()\n",
    "with rasterio.open('./data/test_composite/Rwanda/all/35MPS_multiband.tiff') as rf:\n",
    "    fig, axs = plt.subplots(1,3)\n",
    "    b2 = rf.read(1)\n",
    "    b3 = rf.read(2)\n",
    "    b4 = rf.read(3)\n",
    "    plotNormalizedImg(b2, axs[0])\n",
    "    print(np.isnan(b2).any())\n",
    "    print(np.isnan(b3).any())\n",
    "    print(np.isnan(b4).any())\n",
    "    plotNormalizedImg(b3, axs[1])\n",
    "    plotNormalizedImg(b4, axs[2])\n",
    "    plt.show()"
   ]
  },
  {
   "cell_type": "code",
   "execution_count": null,
   "id": "planned-default",
   "metadata": {
    "scrolled": true
   },
   "outputs": [],
   "source": [
    "# set inputs\n",
    "s2_dir = '/b2p/data/tmp_s2/Rwanda/all'\n",
    "bands = ['B02', 'B03','B04']\n",
    "composite_dir = './data/test_composite'\n",
    "dtype = np.float32\n",
    "num_slices = 6"
   ]
  },
  {
   "cell_type": "code",
   "execution_count": null,
   "id": "vocal-major",
   "metadata": {
    "scrolled": true
   },
   "outputs": [],
   "source": [
    "with rasterio.open(outpath, 'w', driver='Gtiff', width=g_ncols, height=g_nrows, count=1, crs=crs,\n",
    "                                   transform=transform, dtype=dtype) as wf:\n",
    "        wf.write(median_corrected.astype(dtype), 1)"
   ]
  },
  {
   "cell_type": "code",
   "execution_count": null,
   "id": "exact-sister",
   "metadata": {
    "scrolled": true
   },
   "outputs": [],
   "source": [
    "from scipy.stats import norm\n",
    "dif = np.diff(median_corrected, axis=1) # right col minus left\n",
    "data = dif.mean(axis=0)\n",
    "mu, std = norm.fit(data)\n",
    "plt.subplots()\n",
    "plt.hist(data, bins=25, density=True, alpha=0.6, color='b')\n",
    "xmin, xmax = plt.xlim()\n",
    "x = np.linspace(xmin, xmax, 100)\n",
    "p = norm.pdf(x, mu, std)\n",
    "  \n",
    "plt.plot(x, p, 'k', linewidth=2)\n",
    "plt.show()"
   ]
  },
  {
   "cell_type": "code",
   "execution_count": null,
   "id": "developed-divorce",
   "metadata": {
    "scrolled": true
   },
   "outputs": [],
   "source": []
  },
  {
   "cell_type": "code",
   "execution_count": null,
   "id": "introductory-hunter",
   "metadata": {
    "scrolled": true
   },
   "outputs": [],
   "source": [
    "from src.api.sentinel2 import SinergiseSentinelAPI"
   ]
  },
  {
   "cell_type": "markdown",
   "id": "cultural-booking",
   "metadata": {},
   "source": [
    "# Download New Data"
   ]
  },
  {
   "cell_type": "code",
   "execution_count": null,
   "id": "interracial-exception",
   "metadata": {
    "scrolled": true
   },
   "outputs": [],
   "source": [
    "from src.api.sentinel2 import SinergiseSentinelAPI\n",
    "buffer = 100\n",
    "api = SinergiseSentinelAPI()"
   ]
  },
  {
   "cell_type": "code",
   "execution_count": null,
   "id": "regulated-roller",
   "metadata": {
    "scrolled": true
   },
   "outputs": [],
   "source": [
    "# Rwanda (first month of dry szn)\n",
    "bbox = [28.7869, -3.6889, 30.9732, -0.1978]\n",
    "outdir = './data/tmp_s2/Rwanda/all'\n",
    "start_date = '2018-06-01'\n",
    "end_date = '2018-07-31'"
   ]
  },
  {
   "cell_type": "code",
   "execution_count": null,
   "id": "measured-voice",
   "metadata": {
    "scrolled": true
   },
   "outputs": [],
   "source": [
    "os.makedirs(outdir, exist_ok=True)\n",
    "api.download(bbox, buffer, outdir, start_date, end_date)"
   ]
  },
  {
   "cell_type": "code",
   "execution_count": null,
   "id": "surgical-occasions",
   "metadata": {
    "scrolled": true
   },
   "outputs": [],
   "source": [
    "# Uganda\n",
    "d_to_bbox = { Kabarole: [30.0675, 0.1847, 30.6141, 1.0581],\n",
    "    Kasese: [29.4585, -0.7429, 30.5516, 1.0038],\n",
    "    Ibanda: [30.1691, -0.4964, 30.7157, 0.3770]\n",
    "}\n",
    "for district, bbox in d_to_bbox.items():\n",
    "    outdir = os.path.join('./data/tmp_s2/Rwanda', district)\n",
    "    # get first dry szn\n",
    "    start_date = '2019-06-15'\n",
    "    end_date = '2019-08-15'\n",
    "    os.makedirs(outdir, exist_ok=True)\n",
    "    api.download(bbox, buffer, outdir, start_date, end_date)\n",
    "    start_date = '2019-01-01'\n",
    "    end_date = '2019-02-28'"
   ]
  },
  {
   "cell_type": "markdown",
   "id": "outside-burden",
   "metadata": {},
   "source": [
    "# Subset of Training Data"
   ]
  },
  {
   "cell_type": "code",
   "execution_count": 65,
   "id": "federal-freight",
   "metadata": {
    "scrolled": true
   },
   "outputs": [],
   "source": [
    "from glob import glob\n",
    "from tqdm.notebook import tqdm\n",
    "import os \n",
    "import pandas as pd\n",
    "import numpy as np\n",
    "import multiprocessing as mp\n",
    "import random \n",
    "import subprocess\n"
   ]
  },
  {
   "cell_type": "code",
   "execution_count": 40,
   "id": "automated-windsor",
   "metadata": {},
   "outputs": [],
   "source": [
    "geo_loc_files = glob('/b2p/data/final_tiles/**/*.csv', recursive=True)\n",
    "geo_loc_files = [f for f in geo_loc_files if 'Uganda' in f or 'Rwanda' in f]"
   ]
  },
  {
   "cell_type": "code",
   "execution_count": 41,
   "id": "differential-immunology",
   "metadata": {},
   "outputs": [
    {
     "data": {
      "text/plain": [
       "False"
      ]
     },
     "execution_count": 41,
     "metadata": {},
     "output_type": "execute_result"
    }
   ],
   "source": [
    "# sanity check this is in cote d'ivore\n",
    "any(['29NPE_geoloc.csv' in csv for csv in geo_loc_files])"
   ]
  },
  {
   "cell_type": "code",
   "execution_count": 26,
   "id": "chemical-gilbert",
   "metadata": {
    "scrolled": true
   },
   "outputs": [],
   "source": [
    "dfs = [] \n",
    "def _task(csv):\n",
    "    df = pd.read_csv(csv)\n",
    "    root, _ = os.path.split(csv)\n",
    "    df['tile'] = df.apply(lambda row: os.path.join(root, row['tile'].split('tmp_tiles/')[1]), axis = 1)\n",
    "    return df "
   ]
  },
  {
   "cell_type": "code",
   "execution_count": 38,
   "id": "complex-ivory",
   "metadata": {},
   "outputs": [],
   "source": [
    "# test on one file\n",
    "csv = geo_loc_files[0]\n",
    "df = _task(csv)"
   ]
  },
  {
   "cell_type": "code",
   "execution_count": 42,
   "id": "possible-pregnancy",
   "metadata": {},
   "outputs": [
    {
     "data": {
      "application/vnd.jupyter.widget-view+json": {
       "model_id": "54de6fc6a0404231ade7523d1a6452c6",
       "version_major": 2,
       "version_minor": 0
      },
      "text/plain": [
       "  0%|          | 0/26 [00:00<?, ?it/s]"
      ]
     },
     "metadata": {},
     "output_type": "display_data"
    }
   ],
   "source": [
    "df = None\n",
    "with mp.Pool(6) as p:\n",
    "    dfs = tqdm(p.map(_task, geo_loc_files))\n",
    "    df = pd.concat(dfs, ignore_index=True)"
   ]
  },
  {
   "cell_type": "code",
   "execution_count": 45,
   "id": "educated-sugar",
   "metadata": {},
   "outputs": [],
   "source": [
    "df['country'] = df.apply(lambda row: row['tile'].split('/')[-4], axis=1)"
   ]
  },
  {
   "cell_type": "code",
   "execution_count": 48,
   "id": "beneficial-amsterdam",
   "metadata": {
    "scrolled": true
   },
   "outputs": [
    {
     "name": "stdout",
     "output_type": "stream",
     "text": [
      "Number of bridge locations, 169\n",
      "Number of ties, 2340000\n"
     ]
    }
   ],
   "source": [
    "num_found = df.loc[df['country'] == 'Uganda',\"is_bridge\"].to_numpy().sum()\n",
    "print(f'Number of bridge locations, {num_found}')\n",
    "print(f'Number of ties, {df.shape[0]}')\n"
   ]
  },
  {
   "cell_type": "code",
   "execution_count": 46,
   "id": "pressed-humidity",
   "metadata": {
    "scrolled": true
   },
   "outputs": [
    {
     "data": {
      "text/html": [
       "<div>\n",
       "<style scoped>\n",
       "    .dataframe tbody tr th:only-of-type {\n",
       "        vertical-align: middle;\n",
       "    }\n",
       "\n",
       "    .dataframe tbody tr th {\n",
       "        vertical-align: top;\n",
       "    }\n",
       "\n",
       "    .dataframe thead th {\n",
       "        text-align: right;\n",
       "    }\n",
       "</style>\n",
       "<table border=\"1\" class=\"dataframe\">\n",
       "  <thead>\n",
       "    <tr style=\"text-align: right;\">\n",
       "      <th></th>\n",
       "      <th>Unnamed: 0</th>\n",
       "      <th>tile</th>\n",
       "      <th>bbox</th>\n",
       "      <th>is_bridge</th>\n",
       "      <th>bridge_loc</th>\n",
       "      <th>country</th>\n",
       "    </tr>\n",
       "  </thead>\n",
       "  <tbody>\n",
       "    <tr>\n",
       "      <th>0</th>\n",
       "      <td>0</td>\n",
       "      <td>/b2p/data/final_tiles/Rwanda/all/36MTD/36MTD_0...</td>\n",
       "      <td>((-0.903361498186389, 30.30446420444574), (-0....</td>\n",
       "      <td>False</td>\n",
       "      <td>NaN</td>\n",
       "      <td>Rwanda</td>\n",
       "    </tr>\n",
       "    <tr>\n",
       "      <th>1</th>\n",
       "      <td>1</td>\n",
       "      <td>/b2p/data/final_tiles/Rwanda/all/36MTD/36MTD_0...</td>\n",
       "      <td>((-0.9066691181835521, 30.304461760911664), (-...</td>\n",
       "      <td>False</td>\n",
       "      <td>NaN</td>\n",
       "      <td>Rwanda</td>\n",
       "    </tr>\n",
       "    <tr>\n",
       "      <th>2</th>\n",
       "      <td>2</td>\n",
       "      <td>/b2p/data/final_tiles/Rwanda/all/36MTD/36MTD_0...</td>\n",
       "      <td>((-0.9099767381134334, 30.304459308443338), (-...</td>\n",
       "      <td>False</td>\n",
       "      <td>NaN</td>\n",
       "      <td>Rwanda</td>\n",
       "    </tr>\n",
       "    <tr>\n",
       "      <th>3</th>\n",
       "      <td>3</td>\n",
       "      <td>/b2p/data/final_tiles/Rwanda/all/36MTD/36MTD_0...</td>\n",
       "      <td>((-0.9132843579757893, 30.304456847040722), (-...</td>\n",
       "      <td>False</td>\n",
       "      <td>NaN</td>\n",
       "      <td>Rwanda</td>\n",
       "    </tr>\n",
       "    <tr>\n",
       "      <th>4</th>\n",
       "      <td>4</td>\n",
       "      <td>/b2p/data/final_tiles/Rwanda/all/36MTD/36MTD_0...</td>\n",
       "      <td>((-0.9165919777703728, 30.304454376703767), (-...</td>\n",
       "      <td>False</td>\n",
       "      <td>NaN</td>\n",
       "      <td>Rwanda</td>\n",
       "    </tr>\n",
       "    <tr>\n",
       "      <th>...</th>\n",
       "      <td>...</td>\n",
       "      <td>...</td>\n",
       "      <td>...</td>\n",
       "      <td>...</td>\n",
       "      <td>...</td>\n",
       "      <td>...</td>\n",
       "    </tr>\n",
       "    <tr>\n",
       "      <th>2339995</th>\n",
       "      <td>89995</td>\n",
       "      <td>/b2p/data/final_tiles/Uganda/Kabarole/36NTG/36...</td>\n",
       "      <td>((0.8326110119395832, 31.28732880325484), (0.8...</td>\n",
       "      <td>False</td>\n",
       "      <td>NaN</td>\n",
       "      <td>Uganda</td>\n",
       "    </tr>\n",
       "    <tr>\n",
       "      <th>2339996</th>\n",
       "      <td>89996</td>\n",
       "      <td>/b2p/data/final_tiles/Uganda/Kabarole/36NTG/36...</td>\n",
       "      <td>((0.8293011913316961, 31.2873302290497), (0.82...</td>\n",
       "      <td>False</td>\n",
       "      <td>NaN</td>\n",
       "      <td>Uganda</td>\n",
       "    </tr>\n",
       "    <tr>\n",
       "      <th>2339997</th>\n",
       "      <td>89997</td>\n",
       "      <td>/b2p/data/final_tiles/Uganda/Kabarole/36NTG/36...</td>\n",
       "      <td>((0.8259913706657966, 31.28733164916344), (0.8...</td>\n",
       "      <td>False</td>\n",
       "      <td>NaN</td>\n",
       "      <td>Uganda</td>\n",
       "    </tr>\n",
       "    <tr>\n",
       "      <th>2339998</th>\n",
       "      <td>89998</td>\n",
       "      <td>/b2p/data/final_tiles/Uganda/Kabarole/36NTG/36...</td>\n",
       "      <td>((0.8226815499421166, 31.287333063596094), (0....</td>\n",
       "      <td>False</td>\n",
       "      <td>NaN</td>\n",
       "      <td>Uganda</td>\n",
       "    </tr>\n",
       "    <tr>\n",
       "      <th>2339999</th>\n",
       "      <td>89999</td>\n",
       "      <td>/b2p/data/final_tiles/Uganda/Kabarole/36NTG/36...</td>\n",
       "      <td>((0.8193717291608877, 31.28733447234768), (0.8...</td>\n",
       "      <td>False</td>\n",
       "      <td>NaN</td>\n",
       "      <td>Uganda</td>\n",
       "    </tr>\n",
       "  </tbody>\n",
       "</table>\n",
       "<p>2340000 rows × 6 columns</p>\n",
       "</div>"
      ],
      "text/plain": [
       "         Unnamed: 0                                               tile  \\\n",
       "0                 0  /b2p/data/final_tiles/Rwanda/all/36MTD/36MTD_0...   \n",
       "1                 1  /b2p/data/final_tiles/Rwanda/all/36MTD/36MTD_0...   \n",
       "2                 2  /b2p/data/final_tiles/Rwanda/all/36MTD/36MTD_0...   \n",
       "3                 3  /b2p/data/final_tiles/Rwanda/all/36MTD/36MTD_0...   \n",
       "4                 4  /b2p/data/final_tiles/Rwanda/all/36MTD/36MTD_0...   \n",
       "...             ...                                                ...   \n",
       "2339995       89995  /b2p/data/final_tiles/Uganda/Kabarole/36NTG/36...   \n",
       "2339996       89996  /b2p/data/final_tiles/Uganda/Kabarole/36NTG/36...   \n",
       "2339997       89997  /b2p/data/final_tiles/Uganda/Kabarole/36NTG/36...   \n",
       "2339998       89998  /b2p/data/final_tiles/Uganda/Kabarole/36NTG/36...   \n",
       "2339999       89999  /b2p/data/final_tiles/Uganda/Kabarole/36NTG/36...   \n",
       "\n",
       "                                                      bbox  is_bridge  \\\n",
       "0        ((-0.903361498186389, 30.30446420444574), (-0....      False   \n",
       "1        ((-0.9066691181835521, 30.304461760911664), (-...      False   \n",
       "2        ((-0.9099767381134334, 30.304459308443338), (-...      False   \n",
       "3        ((-0.9132843579757893, 30.304456847040722), (-...      False   \n",
       "4        ((-0.9165919777703728, 30.304454376703767), (-...      False   \n",
       "...                                                    ...        ...   \n",
       "2339995  ((0.8326110119395832, 31.28732880325484), (0.8...      False   \n",
       "2339996  ((0.8293011913316961, 31.2873302290497), (0.82...      False   \n",
       "2339997  ((0.8259913706657966, 31.28733164916344), (0.8...      False   \n",
       "2339998  ((0.8226815499421166, 31.287333063596094), (0....      False   \n",
       "2339999  ((0.8193717291608877, 31.28733447234768), (0.8...      False   \n",
       "\n",
       "        bridge_loc country  \n",
       "0              NaN  Rwanda  \n",
       "1              NaN  Rwanda  \n",
       "2              NaN  Rwanda  \n",
       "3              NaN  Rwanda  \n",
       "4              NaN  Rwanda  \n",
       "...            ...     ...  \n",
       "2339995        NaN  Uganda  \n",
       "2339996        NaN  Uganda  \n",
       "2339997        NaN  Uganda  \n",
       "2339998        NaN  Uganda  \n",
       "2339999        NaN  Uganda  \n",
       "\n",
       "[2340000 rows x 6 columns]"
      ]
     },
     "execution_count": 46,
     "metadata": {},
     "output_type": "execute_result"
    }
   ],
   "source": [
    "df"
   ]
  },
  {
   "cell_type": "code",
   "execution_count": 49,
   "id": "comparable-stand",
   "metadata": {},
   "outputs": [],
   "source": [
    "df.to_csv('data/final_tiles/geoloc_rwanda_uganda_training.csv')"
   ]
  },
  {
   "cell_type": "code",
   "execution_count": 51,
   "id": "deadly-station",
   "metadata": {},
   "outputs": [
    {
     "name": "stdout",
     "output_type": "stream",
     "text": [
      "b_train_ix: 385\n",
      "nb_train_ix: 1637615\n",
      "b_val_ix: 165\n",
      "nb_val_ix: 701835\n",
      "Saving to data/final_tiles/train_df.csv and data/final_tiles/val_df.csv\n"
     ]
    }
   ],
   "source": [
    "out_dir = 'data/final_tiles/'\n",
    "# Seperate the training and validation into seperate files\n",
    "b_ix = df.index[df['is_bridge']].tolist()\n",
    "nb_ix = df.index[False == df['is_bridge']].tolist()\n",
    "b_train_ix = random.sample(b_ix, int(round(0.7*len(b_ix))))\n",
    "nb_train_ix = random.sample(nb_ix, int(round(0.7*len(nb_ix))))\n",
    "b_val_ix = np.setdiff1d(b_ix, b_train_ix)\n",
    "nb_val_ix = np.setdiff1d(nb_ix, nb_train_ix)\n",
    "print(f'b_train_ix: {len(b_train_ix)}')\n",
    "print(f'nb_train_ix: {len(nb_train_ix)}')\n",
    "print(f'b_val_ix: {len(b_val_ix)}')\n",
    "print(f'nb_val_ix: {len(nb_val_ix)}')\n",
    "\n",
    "train_csv = os.path.join(out_dir, 'train_df.csv')\n",
    "val_csv = os.path.join(out_dir, 'val_df.csv')\n",
    "train_df = pd.concat(\n",
    "    [\n",
    "        df.iloc[b_train_ix],\n",
    "        df.iloc[nb_train_ix]\n",
    "    ], \n",
    "    ignore_index=True\n",
    ")\n",
    "val_df = pd.concat(\n",
    "    [\n",
    "        df.iloc[b_val_ix],\n",
    "        df.iloc[nb_val_ix]\n",
    "    ], \n",
    "    ignore_index=True\n",
    ")\n",
    "train_df.to_csv(train_csv) \n",
    "val_df.to_csv(val_csv) \n",
    "print(f'Saving to {train_csv} and {val_csv}')"
   ]
  },
  {
   "cell_type": "code",
   "execution_count": 58,
   "id": "amended-pharmaceutical",
   "metadata": {},
   "outputs": [
    {
     "name": "stdout",
     "output_type": "stream",
     "text": [
      "b_train_ix: 385\n",
      "nb_train_ix: 385\n",
      "b_val_ix: 165\n",
      "nb_val_ix: 165\n",
      "Saving to data/final_tiles/train_df_lite.csv and data/final_tiles/val_df_lite.csv\n"
     ]
    }
   ],
   "source": [
    "out_dir = 'data/final_tiles/'\n",
    "# Make a training set where the # of bridge tiles == # of no bridge tiles\n",
    "b_ix = df.index[df['is_bridge']].tolist()\n",
    "nb_ix = df.index[False == df['is_bridge']].tolist()\n",
    "b_train_ix = random.sample(b_ix, int(round(0.7*len(b_ix))))\n",
    "nb_train_ix = random.sample(nb_ix, int(round(0.7*len(b_ix))))\n",
    "b_val_ix = np.setdiff1d(b_ix, b_train_ix)\n",
    "nb_val_ix = np.setdiff1d(nb_ix, nb_train_ix)\n",
    "nb_val_ix = random.sample(nb_val_ix.tolist(), len(b_val_ix))\n",
    "print(f'b_train_ix: {len(b_train_ix)}')\n",
    "print(f'nb_train_ix: {len(nb_train_ix)}')\n",
    "print(f'b_val_ix: {len(b_val_ix)}')\n",
    "print(f'nb_val_ix: {len(nb_val_ix)}')\n",
    "\n",
    "train_csv = os.path.join(out_dir, 'train_df_lite.csv')\n",
    "val_csv = os.path.join(out_dir, 'val_df_lite.csv')\n",
    "train_df = pd.concat(\n",
    "    [\n",
    "        df.iloc[b_train_ix],\n",
    "        df.iloc[nb_train_ix]\n",
    "    ], \n",
    "    ignore_index=True\n",
    ")\n",
    "val_df = pd.concat(\n",
    "    [\n",
    "        df.iloc[b_val_ix],\n",
    "        df.iloc[nb_val_ix]\n",
    "    ], \n",
    "    ignore_index=True\n",
    ")\n",
    "train_df.to_csv(train_csv) \n",
    "val_df.to_csv(val_csv) \n",
    "print(f'Saving to {train_csv} and {val_csv}')"
   ]
  },
  {
   "cell_type": "code",
   "execution_count": 63,
   "id": "thousand-listening",
   "metadata": {},
   "outputs": [
    {
     "name": "stdout",
     "output_type": "stream",
     "text": [
      "-----------------------------\n",
      "Compressing raw s2\n",
      "tar -czvf ./final_tiles.tar.gz ./data/final_tiles\n"
     ]
    }
   ],
   "source": [
    "from bin.get_optical_data import upload_to_s3\n",
    "print('-----------------------------')\n",
    "print('Compressing raw s2')\n",
    "tile_dir = './data/final_tiles'\n",
    "tar_file = './final_tiles.tar.gz'\n",
    "tar_cmd = f'tar -czvf {tar_file} {tile_dir}'\n",
    "print(tar_cmd)\n"
   ]
  },
  {
   "cell_type": "code",
   "execution_count": 66,
   "id": "exterior-dylan",
   "metadata": {},
   "outputs": [
    {
     "ename": "KeyboardInterrupt",
     "evalue": "",
     "output_type": "error",
     "traceback": [
      "\u001b[0;31m---------------------------------------------------------------------------\u001b[0m",
      "\u001b[0;31mKeyboardInterrupt\u001b[0m                         Traceback (most recent call last)",
      "\u001b[0;32m<ipython-input-66-949cf55a8158>\u001b[0m in \u001b[0;36m<module>\u001b[0;34m\u001b[0m\n\u001b[1;32m      1\u001b[0m \u001b[0mprocess\u001b[0m \u001b[0;34m=\u001b[0m \u001b[0msubprocess\u001b[0m\u001b[0;34m.\u001b[0m\u001b[0mPopen\u001b[0m\u001b[0;34m(\u001b[0m\u001b[0mtar_cmd\u001b[0m\u001b[0;34m.\u001b[0m\u001b[0msplit\u001b[0m\u001b[0;34m(\u001b[0m\u001b[0;34m)\u001b[0m\u001b[0;34m,\u001b[0m \u001b[0mshell\u001b[0m\u001b[0;34m=\u001b[0m\u001b[0;32mFalse\u001b[0m\u001b[0;34m)\u001b[0m\u001b[0;34m\u001b[0m\u001b[0;34m\u001b[0m\u001b[0m\n\u001b[0;32m----> 2\u001b[0;31m \u001b[0mprocess\u001b[0m\u001b[0;34m.\u001b[0m\u001b[0mcommunicate\u001b[0m\u001b[0;34m(\u001b[0m\u001b[0;34m)\u001b[0m\u001b[0;34m\u001b[0m\u001b[0;34m\u001b[0m\u001b[0m\n\u001b[0m\u001b[1;32m      3\u001b[0m \u001b[0;31m# Upload raw s2 to s3\u001b[0m\u001b[0;34m\u001b[0m\u001b[0;34m\u001b[0m\u001b[0;34m\u001b[0m\u001b[0m\n\u001b[1;32m      4\u001b[0m \u001b[0mprint\u001b[0m\u001b[0;34m(\u001b[0m\u001b[0;34m'Uploading to s3'\u001b[0m\u001b[0;34m)\u001b[0m\u001b[0;34m\u001b[0m\u001b[0;34m\u001b[0m\u001b[0m\n\u001b[1;32m      5\u001b[0m upload_to_s3(\n",
      "\u001b[0;32m/opt/conda/lib/python3.8/subprocess.py\u001b[0m in \u001b[0;36mcommunicate\u001b[0;34m(self, input, timeout)\u001b[0m\n\u001b[1;32m   1014\u001b[0m                 \u001b[0mstderr\u001b[0m \u001b[0;34m=\u001b[0m \u001b[0mself\u001b[0m\u001b[0;34m.\u001b[0m\u001b[0mstderr\u001b[0m\u001b[0;34m.\u001b[0m\u001b[0mread\u001b[0m\u001b[0;34m(\u001b[0m\u001b[0;34m)\u001b[0m\u001b[0;34m\u001b[0m\u001b[0;34m\u001b[0m\u001b[0m\n\u001b[1;32m   1015\u001b[0m                 \u001b[0mself\u001b[0m\u001b[0;34m.\u001b[0m\u001b[0mstderr\u001b[0m\u001b[0;34m.\u001b[0m\u001b[0mclose\u001b[0m\u001b[0;34m(\u001b[0m\u001b[0;34m)\u001b[0m\u001b[0;34m\u001b[0m\u001b[0;34m\u001b[0m\u001b[0m\n\u001b[0;32m-> 1016\u001b[0;31m             \u001b[0mself\u001b[0m\u001b[0;34m.\u001b[0m\u001b[0mwait\u001b[0m\u001b[0;34m(\u001b[0m\u001b[0;34m)\u001b[0m\u001b[0;34m\u001b[0m\u001b[0;34m\u001b[0m\u001b[0m\n\u001b[0m\u001b[1;32m   1017\u001b[0m         \u001b[0;32melse\u001b[0m\u001b[0;34m:\u001b[0m\u001b[0;34m\u001b[0m\u001b[0;34m\u001b[0m\u001b[0m\n\u001b[1;32m   1018\u001b[0m             \u001b[0;32mif\u001b[0m \u001b[0mtimeout\u001b[0m \u001b[0;32mis\u001b[0m \u001b[0;32mnot\u001b[0m \u001b[0;32mNone\u001b[0m\u001b[0;34m:\u001b[0m\u001b[0;34m\u001b[0m\u001b[0;34m\u001b[0m\u001b[0m\n",
      "\u001b[0;32m/opt/conda/lib/python3.8/subprocess.py\u001b[0m in \u001b[0;36mwait\u001b[0;34m(self, timeout)\u001b[0m\n\u001b[1;32m   1077\u001b[0m             \u001b[0mendtime\u001b[0m \u001b[0;34m=\u001b[0m \u001b[0m_time\u001b[0m\u001b[0;34m(\u001b[0m\u001b[0;34m)\u001b[0m \u001b[0;34m+\u001b[0m \u001b[0mtimeout\u001b[0m\u001b[0;34m\u001b[0m\u001b[0;34m\u001b[0m\u001b[0m\n\u001b[1;32m   1078\u001b[0m         \u001b[0;32mtry\u001b[0m\u001b[0;34m:\u001b[0m\u001b[0;34m\u001b[0m\u001b[0;34m\u001b[0m\u001b[0m\n\u001b[0;32m-> 1079\u001b[0;31m             \u001b[0;32mreturn\u001b[0m \u001b[0mself\u001b[0m\u001b[0;34m.\u001b[0m\u001b[0m_wait\u001b[0m\u001b[0;34m(\u001b[0m\u001b[0mtimeout\u001b[0m\u001b[0;34m=\u001b[0m\u001b[0mtimeout\u001b[0m\u001b[0;34m)\u001b[0m\u001b[0;34m\u001b[0m\u001b[0;34m\u001b[0m\u001b[0m\n\u001b[0m\u001b[1;32m   1080\u001b[0m         \u001b[0;32mexcept\u001b[0m \u001b[0mKeyboardInterrupt\u001b[0m\u001b[0;34m:\u001b[0m\u001b[0;34m\u001b[0m\u001b[0;34m\u001b[0m\u001b[0m\n\u001b[1;32m   1081\u001b[0m             \u001b[0;31m# https://bugs.python.org/issue25942\u001b[0m\u001b[0;34m\u001b[0m\u001b[0;34m\u001b[0m\u001b[0;34m\u001b[0m\u001b[0m\n",
      "\u001b[0;32m/opt/conda/lib/python3.8/subprocess.py\u001b[0m in \u001b[0;36m_wait\u001b[0;34m(self, timeout)\u001b[0m\n\u001b[1;32m   1802\u001b[0m                         \u001b[0;32mif\u001b[0m \u001b[0mself\u001b[0m\u001b[0;34m.\u001b[0m\u001b[0mreturncode\u001b[0m \u001b[0;32mis\u001b[0m \u001b[0;32mnot\u001b[0m \u001b[0;32mNone\u001b[0m\u001b[0;34m:\u001b[0m\u001b[0;34m\u001b[0m\u001b[0;34m\u001b[0m\u001b[0m\n\u001b[1;32m   1803\u001b[0m                             \u001b[0;32mbreak\u001b[0m  \u001b[0;31m# Another thread waited.\u001b[0m\u001b[0;34m\u001b[0m\u001b[0;34m\u001b[0m\u001b[0m\n\u001b[0;32m-> 1804\u001b[0;31m                         \u001b[0;34m(\u001b[0m\u001b[0mpid\u001b[0m\u001b[0;34m,\u001b[0m \u001b[0msts\u001b[0m\u001b[0;34m)\u001b[0m \u001b[0;34m=\u001b[0m \u001b[0mself\u001b[0m\u001b[0;34m.\u001b[0m\u001b[0m_try_wait\u001b[0m\u001b[0;34m(\u001b[0m\u001b[0;36m0\u001b[0m\u001b[0;34m)\u001b[0m\u001b[0;34m\u001b[0m\u001b[0;34m\u001b[0m\u001b[0m\n\u001b[0m\u001b[1;32m   1805\u001b[0m                         \u001b[0;31m# Check the pid and loop as waitpid has been known to\u001b[0m\u001b[0;34m\u001b[0m\u001b[0;34m\u001b[0m\u001b[0;34m\u001b[0m\u001b[0m\n\u001b[1;32m   1806\u001b[0m                         \u001b[0;31m# return 0 even without WNOHANG in odd situations.\u001b[0m\u001b[0;34m\u001b[0m\u001b[0;34m\u001b[0m\u001b[0;34m\u001b[0m\u001b[0m\n",
      "\u001b[0;32m/opt/conda/lib/python3.8/subprocess.py\u001b[0m in \u001b[0;36m_try_wait\u001b[0;34m(self, wait_flags)\u001b[0m\n\u001b[1;32m   1760\u001b[0m             \u001b[0;34m\"\"\"All callers to this function MUST hold self._waitpid_lock.\"\"\"\u001b[0m\u001b[0;34m\u001b[0m\u001b[0;34m\u001b[0m\u001b[0m\n\u001b[1;32m   1761\u001b[0m             \u001b[0;32mtry\u001b[0m\u001b[0;34m:\u001b[0m\u001b[0;34m\u001b[0m\u001b[0;34m\u001b[0m\u001b[0m\n\u001b[0;32m-> 1762\u001b[0;31m                 \u001b[0;34m(\u001b[0m\u001b[0mpid\u001b[0m\u001b[0;34m,\u001b[0m \u001b[0msts\u001b[0m\u001b[0;34m)\u001b[0m \u001b[0;34m=\u001b[0m \u001b[0mos\u001b[0m\u001b[0;34m.\u001b[0m\u001b[0mwaitpid\u001b[0m\u001b[0;34m(\u001b[0m\u001b[0mself\u001b[0m\u001b[0;34m.\u001b[0m\u001b[0mpid\u001b[0m\u001b[0;34m,\u001b[0m \u001b[0mwait_flags\u001b[0m\u001b[0;34m)\u001b[0m\u001b[0;34m\u001b[0m\u001b[0;34m\u001b[0m\u001b[0m\n\u001b[0m\u001b[1;32m   1763\u001b[0m             \u001b[0;32mexcept\u001b[0m \u001b[0mChildProcessError\u001b[0m\u001b[0;34m:\u001b[0m\u001b[0;34m\u001b[0m\u001b[0;34m\u001b[0m\u001b[0m\n\u001b[1;32m   1764\u001b[0m                 \u001b[0;31m# This happens if SIGCLD is set to be ignored or waiting\u001b[0m\u001b[0;34m\u001b[0m\u001b[0;34m\u001b[0m\u001b[0;34m\u001b[0m\u001b[0m\n",
      "\u001b[0;31mKeyboardInterrupt\u001b[0m: "
     ]
    }
   ],
   "source": [
    "process = subprocess.Popen(tar_cmd.split(), shell=False)\n",
    "process.communicate()\n",
    "# Upload raw s2 to s3\n",
    "print('Uploading to s3')\n",
    "upload_to_s3(\n",
    "    tar_file, \n",
    "    os.path.join('sentinel2_raw', os.path.basename(tar_file))\n",
    ")"
   ]
  },
  {
   "cell_type": "markdown",
   "id": "fifteen-warning",
   "metadata": {},
   "source": [
    "## Inspect tiles"
   ]
  },
  {
   "cell_type": "code",
   "execution_count": 71,
   "id": "simplified-formation",
   "metadata": {},
   "outputs": [],
   "source": [
    "import torch \n",
    "from glob import glob \n",
    "from bin.composites_to_tiles import get_bridge_locations\n",
    "from bin.composites_to_tiles import bridge_in_bbox\n",
    "from src.utilities.coords import tiff_to_bbox"
   ]
  },
  {
   "cell_type": "code",
   "execution_count": 69,
   "id": "developmental-august",
   "metadata": {},
   "outputs": [],
   "source": [
    "bridge_locs = get_bridge_locations('data/ground_truth')"
   ]
  },
  {
   "cell_type": "code",
   "execution_count": 74,
   "id": "surprising-sailing",
   "metadata": {},
   "outputs": [
    {
     "name": "stdout",
     "output_type": "stream",
     "text": [
      "data/composites/Rwanda/all/36MTD_multiband.tiff\n"
     ]
    }
   ],
   "source": [
    "multiband_tiff = None\n",
    "for c in glob('data/composites/**/*.tiff', recursive=True):\n",
    "    bbox = tiff_to_bbox(c)\n",
    "    if bridge_in_bbox(bbox, bridge_locs):\n",
    "        multiband_tiff = c \n",
    "        print(c)\n",
    "        break"
   ]
  },
  {
   "cell_type": "code",
   "execution_count": 77,
   "id": "modified-stadium",
   "metadata": {},
   "outputs": [],
   "source": [
    "prefix = os.path.basename(multiband_tiff)[:5]\n",
    "tile = glob(f'data/final_tiles/**/{prefix}/*', recursive=True)"
   ]
  },
  {
   "cell_type": "code",
   "execution_count": 82,
   "id": "renewable-distributor",
   "metadata": {},
   "outputs": [
    {
     "name": "stdout",
     "output_type": "stream",
     "text": [
      "torch.Size([37, 3, 37])\n",
      "torch.Size([37, 3, 37])\n",
      "torch.Size([37, 3, 37])\n",
      "torch.Size([37, 3, 37])\n",
      "torch.Size([37, 3, 37])\n",
      "torch.Size([37, 3, 37])\n",
      "torch.Size([37, 3, 37])\n",
      "torch.Size([37, 3, 37])\n",
      "torch.Size([37, 3, 37])\n",
      "torch.Size([37, 3, 37])\n"
     ]
    }
   ],
   "source": [
    "for t in tile[:10]:\n",
    "    print(torch.load(t).shape)"
   ]
  },
  {
   "cell_type": "code",
   "execution_count": 81,
   "id": "norman-brush",
   "metadata": {},
   "outputs": [
    {
     "data": {
      "text/plain": [
       "torch.Size([37, 3, 37])"
      ]
     },
     "execution_count": 81,
     "metadata": {},
     "output_type": "execute_result"
    }
   ],
   "source": []
  },
  {
   "cell_type": "code",
   "execution_count": null,
   "id": "banner-value",
   "metadata": {},
   "outputs": [],
   "source": []
  }
 ],
 "metadata": {
  "kernelspec": {
   "display_name": "Python 3",
   "language": "python",
   "name": "python3"
  },
  "language_info": {
   "codemirror_mode": {
    "name": "ipython",
    "version": 3
   },
   "file_extension": ".py",
   "mimetype": "text/x-python",
   "name": "python",
   "nbconvert_exporter": "python",
   "pygments_lexer": "ipython3",
   "version": "3.8.6"
  }
 },
 "nbformat": 4,
 "nbformat_minor": 5
}
